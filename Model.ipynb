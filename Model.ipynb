{
  "nbformat": 4,
  "nbformat_minor": 0,
  "metadata": {
    "colab": {
      "name": "Model.ipynb",
      "provenance": [],
      "collapsed_sections": [
        "e-3vS0r8IODX",
        "r3RSXmAyslI0",
        "ngvhCgey93g2",
        "CMQaQhFf-NEJ",
        "FOFLjRVgD2NC",
        "pF3Ed4qBKfxR",
        "O8HZ9DlbLiYu",
        "Ceg588NsocV2",
        "agM8FgvF4AFd",
        "gJQaf_w2Kmmx",
        "O_BoNRmMK2ID",
        "4R-MjOYiLK5r",
        "Aa1hHTjWndfw",
        "zn-aaeTIEi0-",
        "aO0GtpkCGR1j",
        "DVUpEjBFSF0k",
        "PcfVbNVpLTtc",
        "HtwyO2pJ-W8w",
        "hG4DZFCo-iOz",
        "hJ7hKCOiFENS",
        "XHduKu-LFIgp",
        "T2KQ0of1Ik56",
        "n7zssY-eBsXE",
        "j49XR7PPKuD4",
        "ZV29M4U-jU2k"
      ],
      "include_colab_link": true
    },
    "kernelspec": {
      "name": "python3",
      "display_name": "Python 3"
    },
    "language_info": {
      "name": "python"
    },
    "accelerator": "GPU"
  },
  "cells": [
    {
      "cell_type": "markdown",
      "metadata": {
        "id": "view-in-github",
        "colab_type": "text"
      },
      "source": [
        "<a href=\"https://colab.research.google.com/github/AlgoAIBoss/AutoInland-Vehicle-Insurance-Claim-Challenge/blob/main/Model.ipynb\" target=\"_parent\"><img src=\"https://colab.research.google.com/assets/colab-badge.svg\" alt=\"Open In Colab\"/></a>"
      ]
    },
    {
      "cell_type": "markdown",
      "metadata": {
        "id": "TMnoPHz7fBl-"
      },
      "source": [
        "[![Open In Colab](https://colab.research.google.com/assets/colab-badge.svg)](https://colab.research.google.com/github/AlgoAIBoss/AutoInland-Vehicle-Insurance-Claim-Challenge/blob/main/Model.ipynb)"
      ]
    },
    {
      "cell_type": "markdown",
      "metadata": {
        "id": "SK1UFZG2IVic"
      },
      "source": [
        "\n",
        "\n",
        "---\n",
        "\n",
        "# Start\n",
        "\n",
        "---\n",
        "\n"
      ]
    },
    {
      "cell_type": "code",
      "metadata": {
        "id": "4h2OgcNEqElJ"
      },
      "source": [
        "import pandas as pd\n",
        "import numpy as np\n",
        "from sklearn.metrics import classification_report, f1_score,  confusion_matrix\n",
        "from sklearn.model_selection import StratifiedKFold, RandomizedSearchCV, train_test_split\n",
        "from sklearn.preprocessing import OneHotEncoder, StandardScaler\n",
        "import pandas_profiling as pp\n",
        "from pandas_profiling import ProfileReport\n"
      ],
      "execution_count": null,
      "outputs": []
    },
    {
      "cell_type": "code",
      "metadata": {
        "id": "_zYi6ZuaqL_q",
        "colab": {
          "base_uri": "https://localhost:8080/"
        },
        "outputId": "017d8a06-0877-477c-b041-a2dc4b18b0c7"
      },
      "source": [
        "from google.colab import drive\n",
        "\n",
        "drive.mount('/content/gdrive')"
      ],
      "execution_count": null,
      "outputs": [
        {
          "output_type": "stream",
          "text": [
            "Drive already mounted at /content/gdrive; to attempt to forcibly remount, call drive.mount(\"/content/gdrive\", force_remount=True).\n"
          ],
          "name": "stdout"
        }
      ]
    },
    {
      "cell_type": "code",
      "metadata": {
        "id": "qokm9SIIqYFw"
      },
      "source": [
        "# Upload Data\n",
        "\n",
        "Test_ID = pd.read_csv('/content/gdrive/MyDrive/Colab Notebooks/KAGGLE/ZINDI_AUTO_INSURANCE/Dataset/Test.csv')\n",
        "\n",
        "test = pd.read_csv('/content/gdrive/MyDrive/Colab Notebooks/KAGGLE/ZINDI_AUTO_INSURANCE/DATA/TEST_LAB_CAT.csv')\n",
        "\n",
        "train = pd.read_csv('/content/gdrive/MyDrive/Colab Notebooks/KAGGLE/ZINDI_AUTO_INSURANCE/DATA/TRAIN_LAB_CAT.csv')"
      ],
      "execution_count": null,
      "outputs": []
    },
    {
      "cell_type": "code",
      "metadata": {
        "id": "o_Rh73NszMeQ"
      },
      "source": [
        "# Split Train / Test\n",
        "\n",
        "X = train.drop('target', axis=1)\n",
        "y = train.target"
      ],
      "execution_count": null,
      "outputs": []
    },
    {
      "cell_type": "code",
      "metadata": {
        "id": "P9NaiGAAGm3l"
      },
      "source": [
        "from imblearn.over_sampling import RandomOverSampler\n",
        "\n",
        "ros = RandomOverSampler()\n",
        "X_ros, y_ros = ros.fit_resample(X, y)"
      ],
      "execution_count": null,
      "outputs": []
    },
    {
      "cell_type": "code",
      "metadata": {
        "id": "fuS3SPC2P4db"
      },
      "source": [
        "X_ros = pd.DataFrame(X_ros)\n",
        "y_ros = pd.Series(y_ros)"
      ],
      "execution_count": null,
      "outputs": []
    },
    {
      "cell_type": "code",
      "metadata": {
        "id": "EGcq4o4KLJSV"
      },
      "source": [
        "X_ros"
      ],
      "execution_count": null,
      "outputs": []
    },
    {
      "cell_type": "code",
      "metadata": {
        "id": "GjJZJUTIby94"
      },
      "source": [
        "test.columns = X_ros.columns.values"
      ],
      "execution_count": null,
      "outputs": []
    },
    {
      "cell_type": "code",
      "metadata": {
        "id": "jB6JWywUdRLH"
      },
      "source": [
        "\n",
        "X_train, X_test, y_train, y_test = train_test_split(X_ros, y_ros, train_size=0.70, random_state=42)"
      ],
      "execution_count": null,
      "outputs": []
    },
    {
      "cell_type": "markdown",
      "metadata": {
        "id": "r3RSXmAyslI0"
      },
      "source": [
        "\n",
        "\n",
        "---\n",
        "\n",
        "\n",
        "\n",
        "# CatBoost - ML algorithm\n",
        "\n",
        "\n",
        "\n",
        "\n",
        "---\n",
        "\n",
        "\n"
      ]
    },
    {
      "cell_type": "code",
      "metadata": {
        "id": "6MGBkw6NtBVc"
      },
      "source": [
        "!pip install catboost\n",
        "!pip install ipywidgets\n",
        "!jupyter nbextension enable --py widgetsnbextension"
      ],
      "execution_count": null,
      "outputs": []
    },
    {
      "cell_type": "code",
      "metadata": {
        "id": "ABPffXgvsZfz"
      },
      "source": [
        "# Specify Categorical features for Catboost\n",
        "\n",
        "print(X_train.dtypes)\n",
        "cat_features_train = np.where(X_train.dtypes != np.float)[0]\n",
        "\n",
        "cat_features_train"
      ],
      "execution_count": null,
      "outputs": []
    },
    {
      "cell_type": "code",
      "metadata": {
        "id": "grLs0UsV7-95"
      },
      "source": [
        "# import CatBoost Classifier\n",
        "\n",
        "from catboost import CatBoostClassifier, Pool, cv"
      ],
      "execution_count": null,
      "outputs": []
    },
    {
      "cell_type": "code",
      "metadata": {
        "id": "bq3B4l9BtgQM"
      },
      "source": [
        "# Train and Test for CatBoost\n",
        "\n",
        "train_pool = Pool(X_train, y_train, cat_features=cat_features_train)\n",
        "\n",
        "test_pool = Pool(test, cat_features=cat_features_train)"
      ],
      "execution_count": null,
      "outputs": []
    },
    {
      "cell_type": "code",
      "metadata": {
        "id": "12-iTRsANUNz"
      },
      "source": [
        "CV = StratifiedKFold(n_splits=5)\n",
        "\n",
        "Cat_grid = {\n",
        "    'depth': [2, 3, 5, 8],\n",
        "    'learning_rate': [0.01, 0.03, 0.1],\n",
        "    \"max_ctr_complexity\":[ 8, 10, 12],\n",
        "    'bagging_temperature': [0, 1, 3, 5],\n",
        "    'l2_leaf_reg': [3, 5, 7, 9],\n",
        "    #\"border_count\": [7, 10, 15, 50],\n",
        "\n",
        "\n",
        "    # Default\n",
        "    \"iterations\": [500], \n",
        "    'loss_function': ['CrossEntropy'],\n",
        "    \"eval_metric\":['F1'],\n",
        "    \"random_seed\":[42],\n",
        "    \"task_type\": ['GPU'], \n",
        "    \"border_count\":[32],\n",
        "    'verbose': [1000],\n",
        "    #'scale_pos_weight': [90]\n",
        "}\n",
        "\n",
        "\n",
        "Cat_CV = RandomizedSearchCV(Cat_model, Cat_grid, cv = CV, scoring = ['f1'], refit = 'f1', random_state=42, n_iter=10)\n",
        "\n",
        "Cat_CV.fit(X_train, y_train)"
      ],
      "execution_count": null,
      "outputs": []
    },
    {
      "cell_type": "code",
      "metadata": {
        "colab": {
          "base_uri": "https://localhost:8080/"
        },
        "id": "DJ-R9IzCNUJt",
        "outputId": "629047a7-8fb9-4a63-8a09-b8db630f5945"
      },
      "source": [
        "print(f'Best Accuracy: {Cat_CV.best_score_:.3f}\\n')\n",
        "print(f'Best parameter set: {Cat_CV.best_params_}\\n')"
      ],
      "execution_count": null,
      "outputs": [
        {
          "output_type": "stream",
          "text": [
            "Best Accuracy: 0.962\n",
            "\n",
            "Best parameter set: {'verbose': 1000, 'task_type': 'GPU', 'random_seed': 42, 'max_ctr_complexity': 10, 'loss_function': 'CrossEntropy', 'learning_rate': 0.1, 'l2_leaf_reg': 3, 'iterations': 500, 'eval_metric': 'F1', 'depth': 8, 'border_count': 32, 'bagging_temperature': 1}\n",
            "\n"
          ],
          "name": "stdout"
        }
      ]
    },
    {
      "cell_type": "code",
      "metadata": {
        "id": "6BoQ9XIVNULq",
        "colab": {
          "base_uri": "https://localhost:8080/"
        },
        "outputId": "f0a36b0e-dce1-4a54-c5f1-095a24fc1601"
      },
      "source": [
        "# Predict    65\n",
        "Cat_prediction = Cat_model.predict(X_test)\n",
        "\n",
        "\n",
        "\n",
        "print(f'Scores: {classification_report(y_test, Cat_prediction)}\\n')\n",
        "print(f'F1-score: {f1_score(y_test, Cat_prediction):.3f}\\n')\n",
        "print(f'Accuracy: {balanced_accuracy_score(y_test, Cat_prediction):.3f}')\n",
        "\n",
        "\n"
      ],
      "execution_count": null,
      "outputs": [
        {
          "output_type": "stream",
          "text": [
            "Scores:               precision    recall  f1-score   support\n",
            "\n",
            "           0       1.00      0.94      0.97      3190\n",
            "           1       0.94      1.00      0.97      3185\n",
            "\n",
            "    accuracy                           0.97      6375\n",
            "   macro avg       0.97      0.97      0.97      6375\n",
            "weighted avg       0.97      0.97      0.97      6375\n",
            "\n",
            "\n",
            "F1-score: 0.968\n",
            "\n",
            "Accuracy: 0.967\n"
          ],
          "name": "stdout"
        }
      ]
    },
    {
      "cell_type": "code",
      "metadata": {
        "colab": {
          "base_uri": "https://localhost:8080/"
        },
        "id": "XnYiE6cPlYrT",
        "outputId": "4b32c614-6198-4fea-85a7-e505051d5946"
      },
      "source": [
        "print(confusion_matrix(y_test, Cat_prediction))"
      ],
      "execution_count": null,
      "outputs": [
        {
          "output_type": "stream",
          "text": [
            "[[2987  203]\n",
            " [  10 3175]]\n"
          ],
          "name": "stdout"
        }
      ]
    },
    {
      "cell_type": "code",
      "metadata": {
        "id": "QQUb01L_Mx0Q"
      },
      "source": [
        "# Feature Importance\n",
        "\n",
        "model = CatBoostClassifier(iterations=50, random_seed=42, logging_level='Silent').fit(train_pool)\n",
        "\n",
        "feature_importance = model.get_feature_importance(train_pool)\n",
        "feature_names = X_train.columns\n",
        "\n",
        "for score, name in sorted(zip(feature_importance, feature_names), reverse=True):\n",
        "  print('{}: {}'.format(name, score))"
      ],
      "execution_count": null,
      "outputs": []
    },
    {
      "cell_type": "code",
      "metadata": {
        "id": "7sHKk0c-NUQE"
      },
      "source": [
        "# CatBoost parameters\n",
        "params = {             \n",
        "          'combinations_ctr' : ['FloatTargetMeanValue'],\n",
        "          'simple_ctr':['FloatTargetMeanValue'],\n",
        "          'cat_features':cat_features_train,\n",
        "          'early_stopping_rounds':200,\n",
        "          'verbose': 1000, \n",
        "          'task_type': 'GPU', \n",
        "          'random_seed': 42, \n",
        "          'max_ctr_complexity': 10, \n",
        "          'loss_function': 'CrossEntropy', \n",
        "          'learning_rate': 0.1, \n",
        "          # 'l2_leaf_reg': 3, \n",
        "          'iterations': 10000, \n",
        "          'eval_metric': 'F1', \n",
        "          'depth': 8, \n",
        "          # 'border_count': 32, \n",
        "          # 'bagging_temperature': 1\n",
        "          }           \n",
        "\n",
        "\n",
        "# Model\n",
        "Cat_model = CatBoostClassifier(**params)\n",
        "\n",
        "Cat_model.fit(X_ros, y_ros)"
      ],
      "execution_count": null,
      "outputs": []
    },
    {
      "cell_type": "code",
      "metadata": {
        "id": "8CLZYuDi5YFQ"
      },
      "source": [
        "submission_df = pd.DataFrame()\n",
        "submission_df[\"ID\"] = ID[\"ID\"]\n",
        "submission_df[\"target\"] = RF_prediction\n",
        "\n",
        "submission_df.to_csv(\"RF.csv\", index=False)"
      ],
      "execution_count": null,
      "outputs": []
    },
    {
      "cell_type": "markdown",
      "metadata": {
        "id": "O_BoNRmMK2ID"
      },
      "source": [
        "\n",
        "\n",
        "---\n",
        "\n",
        "# Deep Learning \n",
        "\n",
        "---\n",
        "\n"
      ]
    },
    {
      "cell_type": "code",
      "metadata": {
        "id": "RtmBr0tVLGWM"
      },
      "source": [
        "pipe = MLPClassifier()\n",
        "\n",
        "scv = StratifiedKFold(n_splits = 5)\n",
        "\n",
        "# Create param grid.\n",
        "\n",
        "params = [\n",
        "    {\n",
        "        'hidden_layer_sizes': [50, 100, 150, 200],\n",
        "        'activation': ['relu'],\n",
        "        'alpha': [0.0001, 0.001, 0.01],\n",
        "        'solver': ['sgd', 'adam'],\n",
        "        # 'batch_size':['auto', 500, 200],\n",
        "        # 'learning_rate': ['constant', 'invscaling', 'adaptive'],\n",
        "        'max_iter':[200, 300, 400],\n",
        "        'learning_rate_init': [0.001, 0.01, 0.1, 0.3],\n",
        "        'random_state': [42]\n",
        "    }\n",
        "]\n",
        "\n",
        "# Create grid search object\n",
        "\n",
        "MLP_CV = RandomizedSearchCV(estimator=pipe, param_distributions=params, cv = scv, scoring = ['f1'], refit = 'f1', verbose=10, n_jobs = -1, n_iter=10, random_state=42)\n",
        "\n",
        "# Fit on data\n",
        "\n",
        "MLP_CV.fit(X_train, y_train)\n",
        "\n",
        "\n"
      ],
      "execution_count": null,
      "outputs": []
    },
    {
      "cell_type": "code",
      "metadata": {
        "colab": {
          "base_uri": "https://localhost:8080/"
        },
        "id": "n-sbTUC9LGUF",
        "outputId": "7d8d9ebd-d993-4813-97db-2f0a458db0b6"
      },
      "source": [
        "# Scores\n",
        "print(f'Best Accuracy: {MLP_CV.best_score_:.3f}\\n')\n",
        "print(f'Best parameter set: {MLP_CV.best_params_}\\n')"
      ],
      "execution_count": null,
      "outputs": [
        {
          "output_type": "stream",
          "text": [
            "Best Accuracy: 0.687\n",
            "\n",
            "Best parameter set: {'solver': 'adam', 'random_state': 42, 'max_iter': 300, 'learning_rate_init': 0.01, 'hidden_layer_sizes': 50, 'alpha': 0.0001, 'activation': 'relu'}\n",
            "\n"
          ],
          "name": "stdout"
        }
      ]
    },
    {
      "cell_type": "code",
      "metadata": {
        "colab": {
          "base_uri": "https://localhost:8080/"
        },
        "id": "bzIQoUgmLGRz",
        "outputId": "6496b779-47e8-45d7-c2d2-8133febf2d93"
      },
      "source": [
        "# Predict    0.066\n",
        "MLP_prediction = MLP_CV.predict(X_test)\n",
        "\n",
        "\n",
        "\n",
        "print(f' {classification_report(y_test, MLP_prediction)}\\n')\n",
        "print(f'F1-score: {f1_score(y_test, MLP_prediction):.3f}\\n')\n",
        "print(f'Accuracy: {balanced_accuracy_score(y_test, MLP_prediction):.3f}')\n",
        "print(confusion_matrix(y_test, MLP_prediction))\n",
        "\n"
      ],
      "execution_count": null,
      "outputs": [
        {
          "output_type": "stream",
          "text": [
            "               precision    recall  f1-score   support\n",
            "\n",
            "           0       0.68      0.61      0.64      3190\n",
            "           1       0.65      0.71      0.67      3185\n",
            "\n",
            "    accuracy                           0.66      6375\n",
            "   macro avg       0.66      0.66      0.66      6375\n",
            "weighted avg       0.66      0.66      0.66      6375\n",
            "\n",
            "\n",
            "F1-score: 0.675\n",
            "\n",
            "Accuracy: 0.659\n",
            "[[1952 1238]\n",
            " [ 933 2252]]\n"
          ],
          "name": "stdout"
        }
      ]
    },
    {
      "cell_type": "markdown",
      "metadata": {
        "id": "lRc2kVOeEwCG"
      },
      "source": [
        "### BernoulliRBM"
      ]
    },
    {
      "cell_type": "code",
      "metadata": {
        "id": "aX-gZZMJE5Yv"
      },
      "source": [
        "BRBM_pipe = BernoulliRBM()\n",
        "\n",
        "scv = StratifiedKFold(n_splits = 2)\n",
        "\n",
        "# Create param grid.\n",
        "\n",
        "BRBM_params = [\n",
        "    {\n",
        "        'n_components':[200, 256, 320, 370],\n",
        "        'n_iter':[10, 20, 35, 47, 55],\n",
        "        'learning_rate': [0.001, 0.01, 0.1, 0.3],\n",
        "        'batch_size':[10, 15, 20, 30, 35],\n",
        "        'random_state': [42]\n",
        "    }\n",
        "]\n",
        "\n",
        "# Create grid search object\n",
        "\n",
        "BRBM_CV = RandomizedSearchCV(estimator=BRBM_pipe, param_distributions=BRBM_params, cv = scv, scoring = ['f1'], refit = 'f1', verbose=10, n_jobs = -1, n_iter=2, random_state=42)\n",
        "\n",
        "# Fit on data\n",
        "\n",
        "BRBM_CV.fit(X_train, y_train)\n",
        "\n",
        "\n"
      ],
      "execution_count": null,
      "outputs": []
    },
    {
      "cell_type": "code",
      "metadata": {
        "id": "ZwxNQRK9E5Ou"
      },
      "source": [
        "# Scores\n",
        "print(f'Best Accuracy: {BRBM_CV.best_score_:.3f}\\n')\n",
        "print(f'Best parameter set: {BRBM_CV.best_params_}\\n')"
      ],
      "execution_count": null,
      "outputs": []
    },
    {
      "cell_type": "code",
      "metadata": {
        "id": "Qhe-brBAE5I6"
      },
      "source": [
        "# Predict    0.066\n",
        "BRBM_prediction = BRBM_CV.predict(X_test)\n",
        "\n",
        "\n",
        "\n",
        "print(f' {classification_report(y_test, BRBM_prediction)}\\n')\n",
        "print(f'F1-score: {f1_score(y_test, BRBM_prediction):.3f}')\n",
        "print(f'Accuracy: {balanced_accuracy_score(y_test, BRBM_prediction):.3f}')\n",
        "print(confusion_matrix(y_test, BRBM_prediction))\n",
        "\n"
      ],
      "execution_count": null,
      "outputs": []
    },
    {
      "cell_type": "code",
      "metadata": {
        "id": "8coci2ReE5Gn"
      },
      "source": [
        ""
      ],
      "execution_count": null,
      "outputs": []
    },
    {
      "cell_type": "code",
      "metadata": {
        "id": "b_-tG2N4E4mm"
      },
      "source": [
        ""
      ],
      "execution_count": null,
      "outputs": []
    },
    {
      "cell_type": "code",
      "metadata": {
        "id": "EdE0ZDTdE4hU"
      },
      "source": [
        ""
      ],
      "execution_count": null,
      "outputs": []
    },
    {
      "cell_type": "code",
      "metadata": {
        "id": "ujdJTCEME4fZ"
      },
      "source": [
        ""
      ],
      "execution_count": null,
      "outputs": []
    },
    {
      "cell_type": "code",
      "metadata": {
        "id": "WxbJOFY3E4dF"
      },
      "source": [
        ""
      ],
      "execution_count": null,
      "outputs": []
    },
    {
      "cell_type": "markdown",
      "metadata": {
        "id": "4R-MjOYiLK5r"
      },
      "source": [
        "\n",
        "\n",
        "---\n",
        "\n",
        "# Sklearn GradientBoosting\n",
        "\n",
        "---\n",
        "\n"
      ]
    },
    {
      "cell_type": "code",
      "metadata": {
        "id": "0QNncso3LOHT",
        "colab": {
          "base_uri": "https://localhost:8080/"
        },
        "outputId": "ad6c1ba1-f9f8-4a95-cc00-aabfa4a95327"
      },
      "source": [
        "pipe = GradientBoostingClassifier()\n",
        "\n",
        "scv = StratifiedKFold(n_splits = 3)\n",
        "\n",
        "# Create param grid.\n",
        "\n",
        "params = [\n",
        "    {\n",
        "        'n_estimators': [90],\n",
        "        'loss': ['deviance', 'exponential'],\n",
        "        'criterion': ['friedman_mse', 'mse', 'mae'],\n",
        "        # 'min_samples_leaf': [1, 3, 5, 8, 10, 12, 15],\n",
        "        # 'min_samples_split': [2,3, 4, 5, 8],\n",
        "        'learning_rate':[0.01, 0.05, 0.1],\n",
        "        'max_depth': [ 8, 10, 15, 20, 25],\n",
        "        'max_features': ['auto', 'sqrt', 'log2'],\n",
        "        'random_state': [42]\n",
        "    }\n",
        "]\n",
        "\n",
        "# Create grid search object\n",
        "\n",
        "GBC_CV = RandomizedSearchCV(pipe, params, cv = scv, scoring = ['f1'], refit = 'f1', verbose=True, n_jobs = -1, random_state=42, n_iter=10)\n",
        "\n",
        "# Fit on data\n",
        "\n",
        "GBC_CV.fit(X_train, y_train)\n",
        "\n",
        "\n"
      ],
      "execution_count": null,
      "outputs": [
        {
          "output_type": "stream",
          "text": [
            "Fitting 3 folds for each of 10 candidates, totalling 30 fits\n"
          ],
          "name": "stdout"
        },
        {
          "output_type": "stream",
          "text": [
            "[Parallel(n_jobs=-1)]: Using backend LokyBackend with 2 concurrent workers.\n",
            "[Parallel(n_jobs=-1)]: Done  30 out of  30 | elapsed: 25.1min finished\n"
          ],
          "name": "stderr"
        },
        {
          "output_type": "execute_result",
          "data": {
            "text/plain": [
              "RandomizedSearchCV(cv=StratifiedKFold(n_splits=3, random_state=None, shuffle=False),\n",
              "                   error_score=nan,\n",
              "                   estimator=GradientBoostingClassifier(ccp_alpha=0.0,\n",
              "                                                        criterion='friedman_mse',\n",
              "                                                        init=None,\n",
              "                                                        learning_rate=0.1,\n",
              "                                                        loss='deviance',\n",
              "                                                        max_depth=3,\n",
              "                                                        max_features=None,\n",
              "                                                        max_leaf_nodes=None,\n",
              "                                                        min_impurity_decrease=0.0,\n",
              "                                                        min_impurity_split=None,\n",
              "                                                        min_samples_leaf=1,\n",
              "                                                        min_samples_s...\n",
              "                   iid='deprecated', n_iter=10, n_jobs=-1,\n",
              "                   param_distributions=[{'criterion': ['friedman_mse', 'mse',\n",
              "                                                       'mae'],\n",
              "                                         'learning_rate': [0.01, 0.05, 0.1],\n",
              "                                         'loss': ['deviance', 'exponential'],\n",
              "                                         'max_depth': [8, 10, 15, 20, 25],\n",
              "                                         'max_features': ['auto', 'sqrt',\n",
              "                                                          'log2'],\n",
              "                                         'n_estimators': [90],\n",
              "                                         'random_state': [42]}],\n",
              "                   pre_dispatch='2*n_jobs', random_state=42, refit='f1',\n",
              "                   return_train_score=False, scoring=['f1'], verbose=True)"
            ]
          },
          "metadata": {
            "tags": []
          },
          "execution_count": 24
        }
      ]
    },
    {
      "cell_type": "code",
      "metadata": {
        "id": "nuJrtWnpLODo",
        "colab": {
          "base_uri": "https://localhost:8080/"
        },
        "outputId": "c0b8c7ab-91c8-48e9-b946-f8180c29ef34"
      },
      "source": [
        "# Scores\n",
        "print(f'Best Accuracy: {GBC_CV.best_score_:.3f}\\n')\n",
        "print(f'Best parameter set: {GBC_CV.best_params_}\\n')\n"
      ],
      "execution_count": null,
      "outputs": [
        {
          "output_type": "stream",
          "text": [
            "Best Accuracy: 0.936\n",
            "\n",
            "Best parameter set: {'random_state': 42, 'n_estimators': 90, 'max_features': 'log2', 'max_depth': 15, 'loss': 'deviance', 'learning_rate': 0.1, 'criterion': 'mse'}\n",
            "\n"
          ],
          "name": "stdout"
        }
      ]
    },
    {
      "cell_type": "code",
      "metadata": {
        "id": "XdHDgTNLLOBN",
        "colab": {
          "base_uri": "https://localhost:8080/"
        },
        "outputId": "6015dccd-55d3-4c27-b179-40e1196f9b62"
      },
      "source": [
        "# Predict  0.417\n",
        "GBC_prediction = GBC_CV.predict(X_test)\n",
        "\n",
        "\n",
        "\n",
        "print(f' {classification_report(y_test, GBC_prediction)}\\n')\n",
        "print(f'F1-score: {f1_score(y_test, GBC_prediction):.3f}')\n",
        "print(f'Accuracy: {balanced_accuracy_score(y_test, GBC_prediction):.3f}')\n",
        "print(confusion_matrix(y_test, GBC_prediction))\n",
        "\n",
        "\n"
      ],
      "execution_count": null,
      "outputs": [
        {
          "output_type": "stream",
          "text": [
            "               precision    recall  f1-score   support\n",
            "\n",
            "           0       0.99      0.92      0.95      3190\n",
            "           1       0.92      0.99      0.96      3185\n",
            "\n",
            "    accuracy                           0.95      6375\n",
            "   macro avg       0.96      0.95      0.95      6375\n",
            "weighted avg       0.96      0.95      0.95      6375\n",
            "\n",
            "\n",
            "F1-score: 0.955\n",
            "Accuracy: 0.954\n",
            "[[2927  263]\n",
            " [  33 3152]]\n"
          ],
          "name": "stdout"
        }
      ]
    },
    {
      "cell_type": "code",
      "metadata": {
        "id": "yAjxvLpELN_T"
      },
      "source": [
        "submission['GradientBoosting'] = GBC_prediction\n",
        "submission['GBC_Accuracy'] = '90%'"
      ],
      "execution_count": null,
      "outputs": []
    },
    {
      "cell_type": "code",
      "metadata": {
        "id": "LPya0N9rGZQS"
      },
      "source": [
        "!pip install vowpalwabbit"
      ],
      "execution_count": null,
      "outputs": []
    },
    {
      "cell_type": "code",
      "metadata": {
        "id": "CkSRf41MGZNo"
      },
      "source": [
        "from vowpalwabbit import pyvw"
      ],
      "execution_count": null,
      "outputs": []
    },
    {
      "cell_type": "code",
      "metadata": {
        "id": "DFc_ihgkHPUk"
      },
      "source": [
        "from vowpalwabbit.sklearn_vw import VWClassifier\n",
        "\n",
        "# build model\n",
        "model = VWClassifier()\n",
        "model.fit(X_train, y_train)\n",
        "\n",
        "# predict model\n",
        "y_pred = model.predict(X_test)\n",
        "\n",
        "# evaluate model\n",
        "model.score(X_train, y_train)\n",
        "model.score(X_test, y_test)\n"
      ],
      "execution_count": null,
      "outputs": []
    },
    {
      "cell_type": "markdown",
      "metadata": {
        "id": "PcfVbNVpLTtc"
      },
      "source": [
        "\n",
        "\n",
        "---\n",
        "\n",
        "# Decision Tree\n",
        "\n",
        "---\n",
        "\n"
      ]
    },
    {
      "cell_type": "code",
      "metadata": {
        "colab": {
          "base_uri": "https://localhost:8080/"
        },
        "id": "hbHNZKIgLXPa",
        "outputId": "91eb2f5c-2fc4-4387-e22b-7bb3b7013dd7"
      },
      "source": [
        "pipe = DecisionTreeClassifier()\n",
        "\n",
        "\n",
        "scv = StratifiedKFold(n_splits = 5)\n",
        "\n",
        "\n",
        "# Create param grid.\n",
        "\n",
        "params = [\n",
        "    {\n",
        "        'criterion': ['gini', 'entropy'],\n",
        "        'splitter': ['best', 'random'],\n",
        "        # 'min_samples_leaf': [1, 3, 5, 8, 10],\n",
        "        # 'min_samples_split': [2, 4, 8, 10],\n",
        "        'max_depth': ['None', 5, 8, 10, 15, 20, 25],\n",
        "        # 'class_weight':['None', 'balanced', 'balanced_subsample'],\n",
        "        # 'max_leaf_nodes': ['None', 50, 80, 100],\n",
        "        # 'max_features':['auto', 'sqrt', 'log2'],\n",
        "        #'min_weight_fraction_leaf':[np.arange(0.0, 10.0, 0.2)],\n",
        "        #'min_impurity_decrease': [np.arange(0.0, 10.0, 0.2)],\n",
        "        #'min_impurity_split': [0, 3, 5, 8, 10],\n",
        "        'random_state': [42]\n",
        "    }\n",
        "]\n",
        "\n",
        "\n",
        "\n",
        "\n",
        "# Create grid search object\n",
        "\n",
        "DT_CV = RandomizedSearchCV(pipe, params, cv = scv, scoring = ['f1'], refit = 'f1', n_jobs = -1, random_state=42)\n",
        "\n",
        "\n",
        "\n",
        "\n",
        "# Fit on data\n",
        "\n",
        "DT_CV.fit(X_train, y_train)\n",
        "\n",
        "\n",
        "\n",
        "# Scores\n",
        "print(f'Best Accuracy: {DT_CV.best_score_:.3f}\\n')\n",
        "print(f'Best parameter set: {DT_CV.best_params_}\\n')"
      ],
      "execution_count": null,
      "outputs": [
        {
          "output_type": "stream",
          "text": [
            "Best Accuracy: 0.902\n",
            "\n",
            "Best parameter set: {'splitter': 'best', 'random_state': 42, 'max_depth': 25, 'criterion': 'gini'}\n",
            "\n"
          ],
          "name": "stdout"
        }
      ]
    },
    {
      "cell_type": "code",
      "metadata": {
        "colab": {
          "base_uri": "https://localhost:8080/"
        },
        "id": "pcdYVFt9eqsb",
        "outputId": "b47009cc-005c-4d1b-c7c5-9f4c99d6a240"
      },
      "source": [
        "# Predict   0.555\n",
        "DT_prediction = DT_CV.predict(X_test)\n",
        "\n",
        "\n",
        "\n",
        "print(f' {classification_report(y_test, DT_prediction)}\\n')\n",
        "print(f'F1-score: {f1_score(y_test, DT_prediction):.3f}')\n",
        "print(f'Accuracy: {balanced_accuracy_score(y_test, DT_prediction):.3f}')\n",
        "\n"
      ],
      "execution_count": null,
      "outputs": [
        {
          "output_type": "stream",
          "text": [
            "               precision    recall  f1-score   support\n",
            "\n",
            "           0       0.99      0.82      0.90      3190\n",
            "           1       0.85      0.99      0.91      3185\n",
            "\n",
            "    accuracy                           0.91      6375\n",
            "   macro avg       0.92      0.91      0.91      6375\n",
            "weighted avg       0.92      0.91      0.91      6375\n",
            "\n",
            "\n",
            "F1-score: 0.914\n",
            "Accuracy: 0.907\n"
          ],
          "name": "stdout"
        }
      ]
    },
    {
      "cell_type": "code",
      "metadata": {
        "colab": {
          "base_uri": "https://localhost:8080/"
        },
        "id": "_2tFtU-RLXNI",
        "outputId": "64665991-11df-401f-87af-2b847c1296dc"
      },
      "source": [
        "print(confusion_matrix(y_test, DT_prediction))"
      ],
      "execution_count": null,
      "outputs": [
        {
          "output_type": "stream",
          "text": [
            "[[2631  559]\n",
            " [  36 3149]]\n"
          ],
          "name": "stdout"
        }
      ]
    },
    {
      "cell_type": "code",
      "metadata": {
        "id": "-Y_q__V-WKub"
      },
      "source": [
        "submission['DecisionTree'] = DT_prediction\n",
        "submission['DT_Accuracy'] = '87%'"
      ],
      "execution_count": null,
      "outputs": []
    },
    {
      "cell_type": "markdown",
      "metadata": {
        "id": "HtwyO2pJ-W8w"
      },
      "source": [
        "\n",
        "\n",
        "---\n",
        "\n",
        "# XGBoost\n",
        "\n",
        "---\n",
        "\n"
      ]
    },
    {
      "cell_type": "code",
      "metadata": {
        "id": "wcnP9M8r-XuN"
      },
      "source": [
        "import time\n"
      ],
      "execution_count": null,
      "outputs": []
    },
    {
      "cell_type": "code",
      "metadata": {
        "id": "UgWrhnrK-a2U"
      },
      "source": [
        "# ML model\n",
        "model = XGBClassifier()\n",
        "\n",
        "# Cross-validation\n",
        "CV = StratifiedKFold(n_splits=5)\n",
        "\n",
        "\n",
        "# Create the grid search parameter grid and scoring funcitons\n",
        "param_grid = {\n",
        "    \"learning_rate\": [0.03, 0.01, 0.1],\n",
        "    \"colsample_bytree\": [0.3, 0.6, 0.8, 1.0],\n",
        "    \"subsample\": [0.6, 0.8, 1.0, 1.2],\n",
        "    \"max_depth\": [2, 3, 5, 8, 10],\n",
        "    \"reg_lambda\": [1, 1.5, 2],\n",
        "    #'reg_alpha':[0, 1e-5, 1e-2, 0.1, 1, 100],\n",
        "    \"gamma\": [0, 0.1, 0.3],\n",
        "    # 'min_child_weight':np.arange(1, 8, 1, dtype=int),\n",
        "    'min_child_weight':np.arange(1,6,2, dtype=int),\n",
        "    \n",
        "\n",
        "\n",
        "    # Default\n",
        "    \"n_estimators\": [1000],\n",
        "    'booster':['gbtree'],\n",
        "    'sampling_method':['gradient_based'],\n",
        "    'objective':['binary:logistic'],\n",
        "    'tree_method':[\"gpu_hist\"],\n",
        "    'random_state':[42], \n",
        "    'eval_metric':[\"logloss\"],\n",
        "    # 'scale_pos_weight':[90]\n",
        "}\n",
        "\n",
        "\n",
        "\n",
        "\n",
        "XGB_model = RandomizedSearchCV( estimator=model, param_distributions=param_grid, cv=CV, scoring='f1', n_jobs=-1, n_iter=10, refit=\"f1\", verbose=True, random_state=42)\n",
        "\n",
        "\n",
        "\n",
        "# fit grid search\n",
        "XGB_tunned_model = XGB_model.fit(X_train, y_train)"
      ],
      "execution_count": null,
      "outputs": []
    },
    {
      "cell_type": "code",
      "metadata": {
        "id": "ytzZZgoA-czw",
        "colab": {
          "base_uri": "https://localhost:8080/"
        },
        "outputId": "50a2b77a-ed00-4dee-9853-ce4b24cbb5e5"
      },
      "source": [
        "print(f'Best score: {XGB_tunned_model.best_score_}')\n",
        "print(f'Best model: {XGB_tunned_model.best_params_}')"
      ],
      "execution_count": null,
      "outputs": [
        {
          "output_type": "stream",
          "text": [
            "Best score: 0.931709273414776\n",
            "Best model: {'tree_method': 'gpu_hist', 'subsample': 1.0, 'sampling_method': 'gradient_based', 'reg_lambda': 1.5, 'random_state': 42, 'objective': 'binary:logistic', 'n_estimators': 1000, 'min_child_weight': 1, 'max_depth': 8, 'learning_rate': 0.1, 'gamma': 0, 'eval_metric': 'logloss', 'colsample_bytree': 1.0, 'booster': 'gbtree'}\n"
          ],
          "name": "stdout"
        }
      ]
    },
    {
      "cell_type": "code",
      "metadata": {
        "id": "4IjTdGcn-eN3",
        "colab": {
          "base_uri": "https://localhost:8080/"
        },
        "outputId": "e01569e9-379f-4461-e181-63a7a6857acd"
      },
      "source": [
        "XGB_prediction = XGB_tunned_model.predict(X_test)\n",
        "\n",
        "# 58\n",
        "\n",
        "print('Test F1 Score: ', f1_score(y_test, XGB_prediction))\n",
        "print('\\nConfusion Matrix:')\n",
        "print(confusion_matrix(y_test, XGB_prediction))\n",
        "print('\\nClassification Report:')\n",
        "print(classification_report(y_test, XGB_prediction))\n",
        "\n",
        "\n"
      ],
      "execution_count": null,
      "outputs": [
        {
          "output_type": "stream",
          "text": [
            "Test F1 Score:  0.9391720221192646\n",
            "\n",
            "Confusion Matrix:\n",
            "[[2826  364]\n",
            " [  43 3142]]\n",
            "\n",
            "Classification Report:\n",
            "              precision    recall  f1-score   support\n",
            "\n",
            "           0       0.99      0.89      0.93      3190\n",
            "           1       0.90      0.99      0.94      3185\n",
            "\n",
            "    accuracy                           0.94      6375\n",
            "   macro avg       0.94      0.94      0.94      6375\n",
            "weighted avg       0.94      0.94      0.94      6375\n",
            "\n"
          ],
          "name": "stdout"
        }
      ]
    },
    {
      "cell_type": "markdown",
      "metadata": {
        "id": "hG4DZFCo-iOz"
      },
      "source": [
        "\n",
        "\n",
        "---\n",
        "\n",
        "# LightGBM\n",
        "\n",
        "---\n",
        "\n"
      ]
    },
    {
      "cell_type": "code",
      "metadata": {
        "id": "KXySPB14-h3f"
      },
      "source": [
        ""
      ],
      "execution_count": null,
      "outputs": []
    },
    {
      "cell_type": "code",
      "metadata": {
        "id": "wrELkk-z-nxD",
        "colab": {
          "base_uri": "https://localhost:8080/"
        },
        "outputId": "bd36c070-1d65-48fd-ef9b-d9943f0a8c38"
      },
      "source": [
        "# ML model\n",
        "LGBM_model = LGBMClassifier()\n",
        "\n",
        "# Cross-validation\n",
        "CV = StratifiedKFold(n_splits=5)\n",
        "\n",
        "# CV Parameters\n",
        "gridParams = {\n",
        "    'learning_rate':   [0.01, 0.1, 0.03, 0.3, 0.5],\n",
        "    'max_depth' :      [2, 3,5,6,7,8],\n",
        "    # 'colsample_bytree':[0.3, 0.5,0.7, 0.9, 1.0],\n",
        "    # 'subsample' :      [0.1, 0.3, 0.5, 0.7, 0.9],\n",
        "    # 'min_split_gain' : [0.01, 0.1, 0.3, 0.5],\n",
        "    # 'min_data_in_leaf':[5, 15, 10, 20, 27],\n",
        "    # 'max_bin':         [150, 200, 250, 300, 320, 350],   #1\n",
        "    # 'num_leaves':      [31, 51, 71, 90, 100],        #1\n",
        "    #'categorical_feature':\n",
        "\n",
        "\n",
        "    #Default\n",
        "    # 'is_unbalance': [True],\n",
        "    # 'use_missing':  [True],\n",
        "    'n_iterations': [1000],\n",
        "    'random_state': [42], \n",
        "    # 'class_weight': ['balanced'],\n",
        "    'objective' :   ['binary'],\n",
        "    'boosting_type':['gbdt'],\n",
        "    'metric':       ['cross_entropy'],\n",
        "    \n",
        "    }\n",
        "\n",
        "\n",
        "# Initialize a RandomizedSearchCV object using 5-fold CV-\n",
        "LGBM_CV = RandomizedSearchCV(LGBM_model, gridParams, cv = CV, scoring='f1',  n_iter=10, refit=\"f1\", verbose=True, random_state=42)\n",
        "\n",
        "# Train on training data-\n",
        "LGBM_CV.fit(X_train, y_train)"
      ],
      "execution_count": null,
      "outputs": [
        {
          "output_type": "stream",
          "text": [
            "Fitting 5 folds for each of 10 candidates, totalling 50 fits\n"
          ],
          "name": "stdout"
        },
        {
          "output_type": "stream",
          "text": [
            "[Parallel(n_jobs=1)]: Using backend SequentialBackend with 1 concurrent workers.\n",
            "[Parallel(n_jobs=1)]: Done  50 out of  50 | elapsed:   22.2s finished\n"
          ],
          "name": "stderr"
        },
        {
          "output_type": "execute_result",
          "data": {
            "text/plain": [
              "RandomizedSearchCV(cv=StratifiedKFold(n_splits=5, random_state=None, shuffle=False),\n",
              "                   error_score=nan,\n",
              "                   estimator=LGBMClassifier(boosting_type='gbdt',\n",
              "                                            class_weight=None,\n",
              "                                            colsample_bytree=1.0,\n",
              "                                            importance_type='split',\n",
              "                                            learning_rate=0.1, max_depth=-1,\n",
              "                                            min_child_samples=20,\n",
              "                                            min_child_weight=0.001,\n",
              "                                            min_split_gain=0.0,\n",
              "                                            n_estimators=100, n_jobs=-1,\n",
              "                                            num_leaves=31, objectiv...\n",
              "                                            subsample_freq=0),\n",
              "                   iid='deprecated', n_iter=10, n_jobs=None,\n",
              "                   param_distributions={'boosting_type': ['gbdt'],\n",
              "                                        'learning_rate': [0.01, 0.1, 0.03, 0.3,\n",
              "                                                          0.5],\n",
              "                                        'max_depth': [2, 3, 5, 6, 7, 8],\n",
              "                                        'metric': ['cross_entropy'],\n",
              "                                        'n_iterations': [1000],\n",
              "                                        'objective': ['binary'],\n",
              "                                        'random_state': [42]},\n",
              "                   pre_dispatch='2*n_jobs', random_state=42, refit='f1',\n",
              "                   return_train_score=False, scoring='f1', verbose=True)"
            ]
          },
          "metadata": {
            "tags": []
          },
          "execution_count": 59
        }
      ]
    },
    {
      "cell_type": "code",
      "metadata": {
        "id": "jdpaWb35Fh18",
        "colab": {
          "base_uri": "https://localhost:8080/"
        },
        "outputId": "48b7f855-30d2-4040-d882-43cde14f6511"
      },
      "source": [
        "print('Best parameters found by grid search are:', LGBM_CV.best_params_)\n",
        "print('Best score found by grid search is:', LGBM_CV.best_score_)"
      ],
      "execution_count": null,
      "outputs": [
        {
          "output_type": "stream",
          "text": [
            "Best parameters found by grid search are: {'random_state': 42, 'objective': 'binary', 'n_iterations': 1000, 'metric': 'cross_entropy', 'max_depth': 7, 'learning_rate': 0.5, 'boosting_type': 'gbdt'}\n",
            "Best score found by grid search is: 0.9130670761280163\n"
          ],
          "name": "stdout"
        }
      ]
    },
    {
      "cell_type": "code",
      "metadata": {
        "id": "o6EYB3_J-rPf",
        "colab": {
          "base_uri": "https://localhost:8080/"
        },
        "outputId": "a95228a2-6e9f-4407-8a5c-3576a9ae02c3"
      },
      "source": [
        "LGBM_prediction = LGBM_CV.predict(X_test)\n",
        "\n",
        "# 61\n",
        "\n",
        "print('Test F1_score: ', f1_score(y_test, LGBM_prediction))\n",
        "print('\\nConfusion Matrix:')\n",
        "print(confusion_matrix(y_test, LGBM_prediction))\n",
        "print('\\nClassification Report:')\n",
        "print(classification_report(y_test, LGBM_prediction))\n"
      ],
      "execution_count": null,
      "outputs": [
        {
          "output_type": "stream",
          "text": [
            "Test F1_score:  0.9230994580342757\n",
            "\n",
            "Confusion Matrix:\n",
            "[[2699  491]\n",
            " [  34 3151]]\n",
            "\n",
            "Classification Report:\n",
            "              precision    recall  f1-score   support\n",
            "\n",
            "           0       0.99      0.85      0.91      3190\n",
            "           1       0.87      0.99      0.92      3185\n",
            "\n",
            "    accuracy                           0.92      6375\n",
            "   macro avg       0.93      0.92      0.92      6375\n",
            "weighted avg       0.93      0.92      0.92      6375\n",
            "\n"
          ],
          "name": "stdout"
        }
      ]
    },
    {
      "cell_type": "code",
      "metadata": {
        "id": "PTdnHBFOy3RD"
      },
      "source": [
        "submission['LightGBM'] = LGBM_prediction\n",
        "submission['LGBM_Accuracy'] = '91%'"
      ],
      "execution_count": null,
      "outputs": []
    },
    {
      "cell_type": "markdown",
      "metadata": {
        "id": "hJ7hKCOiFENS"
      },
      "source": [
        "\n",
        "\n",
        "---\n",
        "\n",
        "# Bagging\n",
        "\n",
        "---\n",
        "\n"
      ]
    },
    {
      "cell_type": "code",
      "metadata": {
        "id": "DK3Qg7n3JJRU"
      },
      "source": [
        "# ML Model hyperparameters\n",
        "\n",
        "               \n",
        "LGBM_params = {'random_state': 42, 'objective': 'binary', 'n_iterations': 1000, 'metric': 'cross_entropy', 'max_depth': 7, 'learning_rate': 0.5, 'boosting_type': 'gbdt'}\n",
        "\n",
        "XGBM_params = {'tree_method': 'gpu_hist', 'subsample': 1.0, 'sampling_method': 'gradient_based', 'reg_lambda': 1.5, 'random_state': 42, 'objective': 'binary:logistic', 'n_estimators': 1000, 'min_child_weight': 1, 'max_depth': 8, 'learning_rate': 0.1, 'gamma': 0, 'eval_metric': 'logloss', 'colsample_bytree': 1.0, 'booster': 'gbtree'}\n",
        "\n",
        "CatB_params = {'combinations_ctr' : ['FloatTargetMeanValue'], 'simple_ctr':['FloatTargetMeanValue'], 'cat_features':cat_features_train, 'early_stopping_rounds':200, 'verbose': 1000, 'task_type': 'GPU', 'random_seed': 42, 'max_ctr_complexity': 10, 'loss_function': 'CrossEntropy', 'learning_rate': 0.1, 'l2_leaf_reg': 3, 'iterations': 10000, 'eval_metric': 'F1', 'depth': 8, 'border_count': 32, 'bagging_temperature': 1}\n",
        "\n",
        "RF_params = {'random_state': 42, 'n_estimators': 350, 'max_features': 'sqrt', 'max_depth': 15, 'criterion': 'gini'}\n",
        "\n",
        "LR_params = {'solver': 'newton-cg', 'random_state': 42, 'penalty': 'l2', 'max_iter': 250, 'C': 10}\n",
        "\n",
        "DT_params = {'splitter': 'best', 'random_state': 42, 'max_depth': 25, 'criterion': 'gini'}\n",
        "\n",
        "KNN_params = {'weights': 'distance', 'p': 1, 'n_neighbors': 10, 'leaf_size': 100, 'algorithm': 'brute'}\n",
        "\n",
        "SVC_params = {'shrinking': True, 'random_state': 42, 'max_iter': -1, 'kernel': 'rbf', 'gamma': 'auto', 'degree': 3, 'decision_function_shape': 'ovr', 'class_weight': 'balanced', 'C': 100}\n",
        "\n",
        "GBC_params = {'random_state': 42, 'n_estimators': 90, 'max_features': 'log2', 'max_depth': 15, 'loss': 'deviance', 'learning_rate': 0.1, 'criterion': 'mse'}\n",
        "\n",
        "EXT_params = {'random_state': 42, 'n_estimators': 300, 'max_depth': 15, 'criterion': 'entropy'}\n",
        "\n",
        "MLP_params = {'solver': 'adam', 'random_state': 42, 'max_iter': 300, 'learning_rate_init': 0.01, 'hidden_layer_sizes': 50, 'alpha': 0.0001, 'activation': 'relu'}"
      ],
      "execution_count": null,
      "outputs": []
    },
    {
      "cell_type": "code",
      "metadata": {
        "id": "UPCAUABaV1g_"
      },
      "source": [
        "# LR_params = {LR_cv.best_params_}\n",
        "# RF_params = {RF_CV.best_params_}\n",
        "# KNN_params = {KNN_CV.best_params_}\n",
        "# SVM_params = {SVC_CV.best_params_}\n",
        "# EXT_params = {EXT_CV.best_params_}\n",
        "# MLP_params = {MLP_CV.best_params_}\n",
        "# DT_params = {DT_CV.best_params_}\n",
        "# XGBM_params = {XGB_tunned_model.best_params_}\n",
        "# LGBM_params = LGBM_CV.best_params_"
      ],
      "execution_count": null,
      "outputs": []
    },
    {
      "cell_type": "code",
      "metadata": {
        "id": "oOfrgKi-J5xE"
      },
      "source": [
        "# Bagging Models\n",
        "\n",
        "LGBM = LGBMClassifier(**LGBM_params)\n",
        "\n",
        "XGBM = XGBClassifier(**XGBM_params)\n",
        "\n",
        "CatBoost = CatBoostClassifier(**CatB_params)\n",
        "\n",
        "RF = RandomForestClassifier(**RF_params)\n",
        "\n",
        "LR = LogisticRegression(**LR_params)\n",
        "\n",
        "KNN = KNeighborsClassifier(**KNN_params)\n",
        "\n",
        "SVC = SVC(**SVC_params)\n",
        "\n",
        "GBC = GradientBoostingClassifier(**GBC_params)\n",
        "\n",
        "EXT = ExtraTreesClassifier(**EXT_params)\n",
        "\n",
        "DT = DecisionTreeClassifier(**DT_params)\n",
        "\n",
        "MLP = MLPClassifier(**MLP_params)"
      ],
      "execution_count": null,
      "outputs": []
    },
    {
      "cell_type": "code",
      "metadata": {
        "id": "EaHnX0DeZsDo"
      },
      "source": [
        ""
      ],
      "execution_count": null,
      "outputs": []
    },
    {
      "cell_type": "code",
      "metadata": {
        "id": "Ai2KmQ86Es8f"
      },
      "source": [
        "# LightGBM Model\n",
        "\n",
        "\n",
        "\n",
        "LGBM_Bagging = BaggingClassifier(base_estimator=LGBM, n_estimators=25, random_state=42).fit(X_ros, y_ros)\n",
        "\n",
        "LGBM_Bagging_prediction = LGBM_Bagging.predict(test)\n",
        "\n",
        "\n"
      ],
      "execution_count": null,
      "outputs": []
    },
    {
      "cell_type": "code",
      "metadata": {
        "colab": {
          "base_uri": "https://localhost:8080/"
        },
        "id": "XaC5bxbc_3nc",
        "outputId": "95c2aff9-5e43-4e04-80c8-c75529ea753a"
      },
      "source": [
        "# Metrix  611\n",
        "\n",
        "print('Test Accuraccy: ', balanced_accuracy_score(y_test, LGBM_Bagging_prediction))\n",
        "print(f'{classification_report(y_test, LGBM_Bagging_prediction)}\\n')\n",
        "print(f'F1-score: {f1_score(y_test, LGBM_Bagging_prediction):.3f}\\n')\n",
        "print(confusion_matrix(y_test, LGBM_Bagging_prediction))\n",
        "\n"
      ],
      "execution_count": null,
      "outputs": [
        {
          "output_type": "stream",
          "text": [
            "Test Accuraccy:  0.7968219001823053\n",
            "              precision    recall  f1-score   support\n",
            "\n",
            "         0.0       0.95      0.93      0.94      3187\n",
            "         1.0       0.57      0.66      0.61       437\n",
            "\n",
            "    accuracy                           0.90      3624\n",
            "   macro avg       0.76      0.80      0.78      3624\n",
            "weighted avg       0.91      0.90      0.90      3624\n",
            "\n",
            "\n",
            "F1-score: 0.611\n",
            "\n",
            "[[2964  223]\n",
            " [ 147  290]]\n"
          ],
          "name": "stdout"
        }
      ]
    },
    {
      "cell_type": "code",
      "metadata": {
        "id": "LwT3V045dPhN"
      },
      "source": [
        "submission['LGBM_Bagging'] = LGBM_Bagging_prediction\n",
        "submission['LGBM_Bagging_Accuracy'] = '93%'"
      ],
      "execution_count": null,
      "outputs": []
    },
    {
      "cell_type": "code",
      "metadata": {
        "id": "RVxrHtlDGMiP"
      },
      "source": [
        "# XGBoost Model\n",
        "\n",
        "\n",
        "\n",
        "\n",
        "XGBoost_Bagging = BaggingClassifier(base_estimator=XGBM, n_estimators=13, random_state=42).fit(X_train, y_train)\n",
        "\n",
        "XGBoost_Bagging_prediction = XGBoost_Bagging.predict(X_test)\n",
        "\n",
        "\n"
      ],
      "execution_count": null,
      "outputs": []
    },
    {
      "cell_type": "code",
      "metadata": {
        "colab": {
          "base_uri": "https://localhost:8080/"
        },
        "id": "MrrE5vhPGMf2",
        "outputId": "2e66d18b-4fa9-48e1-a9e1-006257210ba8"
      },
      "source": [
        "# Metrix\n",
        "\n",
        "print('Test Accuraccy: ', balanced_accuracy_score(y_test, XGBoost_Bagging_prediction))\n",
        "print(f'{classification_report(y_test, XGBoost_Bagging_prediction)}\\n')\n",
        "print(f'F1-score: {f1_score(y_test, XGBoost_Bagging_prediction):.3f}\\n')\n",
        "print(confusion_matrix(y_test, XGBoost_Bagging_prediction))\n",
        "\n"
      ],
      "execution_count": null,
      "outputs": [
        {
          "output_type": "stream",
          "text": [
            "Test Accuraccy:  0.9024390243902439\n",
            "              precision    recall  f1-score   support\n",
            "\n",
            "           0       0.95      0.73      0.83        52\n",
            "           1       0.89      0.98      0.93       112\n",
            "\n",
            "    accuracy                           0.90       164\n",
            "   macro avg       0.92      0.86      0.88       164\n",
            "weighted avg       0.91      0.90      0.90       164\n",
            "\n",
            "\n",
            "F1-score: 0.932\n",
            "\n",
            "[[ 38  14]\n",
            " [  2 110]]\n"
          ],
          "name": "stdout"
        }
      ]
    },
    {
      "cell_type": "code",
      "metadata": {
        "id": "e-V6GllPdQrl"
      },
      "source": [
        "submission['XGBM_Bagging'] = XGBoost_Bagging_prediction\n",
        "submission['XGBM_Bagging_Accuracy'] = '90%'"
      ],
      "execution_count": null,
      "outputs": []
    },
    {
      "cell_type": "code",
      "metadata": {
        "id": "JwIlsWWHGMZ9"
      },
      "source": [
        "# KNN Model\n",
        "\n",
        "\n",
        "\n",
        "\n",
        "KNN_Bagging = BaggingClassifier(base_estimator=KNN, n_estimators=13, random_state=42).fit(X_train, y_train)\n",
        "\n",
        "KNN_Bagging_prediction = KNN_Bagging.predict(X_test)\n",
        "\n",
        "\n"
      ],
      "execution_count": null,
      "outputs": []
    },
    {
      "cell_type": "code",
      "metadata": {
        "colab": {
          "base_uri": "https://localhost:8080/"
        },
        "id": "WwI7GYsMGMXY",
        "outputId": "e710b6d0-7031-4318-b175-9f4a497cfb8f"
      },
      "source": [
        "# Metrix  0.204\n",
        "\n",
        "print('Test Accuraccy: ', balanced_accuracy_score(y_test, KNN_Bagging_prediction))\n",
        "print(f'{classification_report(y_test, KNN_Bagging_prediction)}\\n')\n",
        "print(f'F1-score: {f1_score(y_test, KNN_Bagging_prediction):.3f}\\n')\n",
        "print(confusion_matrix(y_test, KNN_Bagging_prediction))\n",
        "\n"
      ],
      "execution_count": null,
      "outputs": [
        {
          "output_type": "stream",
          "text": [
            "Test Accuraccy:  0.4996172772006561\n",
            "              precision    recall  f1-score   support\n",
            "\n",
            "         0.0       0.89      0.95      0.92      2950\n",
            "         1.0       0.11      0.05      0.07       372\n",
            "\n",
            "    accuracy                           0.85      3322\n",
            "   macro avg       0.50      0.50      0.49      3322\n",
            "weighted avg       0.80      0.85      0.82      3322\n",
            "\n",
            "\n",
            "F1-score: 0.067\n",
            "\n",
            "[[2805  145]\n",
            " [ 354   18]]\n"
          ],
          "name": "stdout"
        }
      ]
    },
    {
      "cell_type": "code",
      "metadata": {
        "id": "RZs9mRjbdTL7"
      },
      "source": [
        "submission['KNN_Bagging'] = KNN_Bagging_prediction\n",
        "submission['KNN_Bagging_Accuracy'] = '69%'"
      ],
      "execution_count": null,
      "outputs": []
    },
    {
      "cell_type": "code",
      "metadata": {
        "id": "QsObkb_PGMVA"
      },
      "source": [
        "# LogisticRegression Model\n",
        "\n",
        "\n",
        "\n",
        "LR_Bagging = BaggingClassifier(base_estimator=LR, n_estimators=13, random_state=42).fit(X_train, y_train)\n",
        "\n",
        "LR_Bagging_prediction = LR_Bagging.predict(X_test)\n",
        "\n",
        "\n"
      ],
      "execution_count": null,
      "outputs": []
    },
    {
      "cell_type": "code",
      "metadata": {
        "colab": {
          "base_uri": "https://localhost:8080/"
        },
        "id": "nPYru0n2GMHB",
        "outputId": "c41dd2f8-aca6-40c4-9b14-c1b68f682dd4"
      },
      "source": [
        "# Metrix   0.551\n",
        "\n",
        "print('Test Accuraccy: ', balanced_accuracy_score(y_test, LR_Bagging_prediction))\n",
        "print(f'{classification_report(y_test, LR_Bagging_prediction)}\\n')\n",
        "print(f'F1-score: {f1_score(y_test, LR_Bagging_prediction):.3f}\\n')\n",
        "print(confusion_matrix(y_test, LR_Bagging_prediction))\n",
        "\n"
      ],
      "execution_count": null,
      "outputs": [
        {
          "output_type": "stream",
          "text": [
            "Test Accuraccy:  0.503523783488245\n",
            "              precision    recall  f1-score   support\n",
            "\n",
            "         0.0       0.89      1.00      0.94      2950\n",
            "         1.0       0.50      0.01      0.02       372\n",
            "\n",
            "    accuracy                           0.89      3322\n",
            "   macro avg       0.69      0.50      0.48      3322\n",
            "weighted avg       0.85      0.89      0.84      3322\n",
            "\n",
            "\n",
            "F1-score: 0.016\n",
            "\n",
            "[[2947    3]\n",
            " [ 369    3]]\n"
          ],
          "name": "stdout"
        }
      ]
    },
    {
      "cell_type": "code",
      "metadata": {
        "id": "MVIzJFvNdU5_"
      },
      "source": [
        "submission['LR_Bagging'] = LR_Bagging_prediction\n",
        "submission['LR_Bagging_Accuracy'] = '88%'"
      ],
      "execution_count": null,
      "outputs": []
    },
    {
      "cell_type": "code",
      "metadata": {
        "id": "dJZ_sI_JGqB3"
      },
      "source": [
        "# RandomForest Model\n",
        "\n",
        "\n",
        "\n",
        "RF_Bagging = BaggingClassifier(base_estimator=RF, n_estimators=13, random_state=42).fit(X_train, y_train)\n",
        "\n",
        "RF_Bagging_prediction = RF_Bagging.predict(X_test)\n",
        "\n",
        "\n"
      ],
      "execution_count": null,
      "outputs": []
    },
    {
      "cell_type": "code",
      "metadata": {
        "colab": {
          "base_uri": "https://localhost:8080/"
        },
        "id": "GtigLFS5GqAC",
        "outputId": "dea95d6d-84e8-404e-b978-227705e67f33"
      },
      "source": [
        "# Metrix   0.594\n",
        "\n",
        "print('Test Accuraccy: ', balanced_accuracy_score(y_test, RF_Bagging_prediction))\n",
        "print(f'{classification_report(y_test, RF_Bagging_prediction)}\\n')\n",
        "print(f'F1-score: {f1_score(y_test, RF_Bagging_prediction):.3f}\\n')\n",
        "print(confusion_matrix(y_test, RF_Bagging_prediction))\n",
        "\n"
      ],
      "execution_count": null,
      "outputs": [
        {
          "output_type": "stream",
          "text": [
            "Test Accuraccy:  0.6682768361581921\n",
            "              precision    recall  f1-score   support\n",
            "\n",
            "         0.0       0.93      0.75      0.83      2950\n",
            "         1.0       0.23      0.58      0.33       372\n",
            "\n",
            "    accuracy                           0.73      3322\n",
            "   macro avg       0.58      0.67      0.58      3322\n",
            "weighted avg       0.86      0.73      0.78      3322\n",
            "\n",
            "\n",
            "F1-score: 0.330\n",
            "\n",
            "[[2222  728]\n",
            " [ 155  217]]\n"
          ],
          "name": "stdout"
        }
      ]
    },
    {
      "cell_type": "code",
      "metadata": {
        "id": "0OwDqSqwdVmn"
      },
      "source": [
        "submission['RF_Bagging'] = RF_Bagging_prediction\n",
        "submission['RF_Bagging_Accuracy'] = '91%'"
      ],
      "execution_count": null,
      "outputs": []
    },
    {
      "cell_type": "code",
      "metadata": {
        "id": "k_594t5G19sS"
      },
      "source": [
        "# SVC Model\n",
        "\n",
        "\n",
        "\n",
        "SVC_Bagging = BaggingClassifier(base_estimator=SVC, n_estimators=13, random_state=42).fit(X_train, y_train)\n",
        "\n",
        "SVC_Bagging_prediction = SVC_Bagging.predict(X_test)\n",
        "\n",
        "\n"
      ],
      "execution_count": null,
      "outputs": []
    },
    {
      "cell_type": "code",
      "metadata": {
        "id": "jWr1r-801_Px",
        "colab": {
          "base_uri": "https://localhost:8080/"
        },
        "outputId": "2840a207-77bc-4d48-c6ea-3204ec96ca11"
      },
      "source": [
        "# Metrix  0.33\n",
        "\n",
        "print('Test Accuraccy: ', balanced_accuracy_score(y_test, SVC_Bagging_prediction))\n",
        "print(f'{classification_report(y_test, SVC_Bagging_prediction)}\\n')\n",
        "print(f'F1-score: {f1_score(y_test, SVC_Bagging_prediction):.3f}\\n')\n",
        "print(confusion_matrix(y_test, SVC_Bagging_prediction))\n",
        "\n"
      ],
      "execution_count": null,
      "outputs": [
        {
          "output_type": "stream",
          "text": [
            "Test Accuraccy:  0.6679715691634773\n",
            "              precision    recall  f1-score   support\n",
            "\n",
            "         0.0       0.96      0.53      0.68      2950\n",
            "         1.0       0.18      0.81      0.29       372\n",
            "\n",
            "    accuracy                           0.56      3322\n",
            "   macro avg       0.57      0.67      0.49      3322\n",
            "weighted avg       0.87      0.56      0.64      3322\n",
            "\n",
            "\n",
            "F1-score: 0.291\n",
            "\n",
            "[[1562 1388]\n",
            " [  72  300]]\n"
          ],
          "name": "stdout"
        }
      ]
    },
    {
      "cell_type": "code",
      "metadata": {
        "id": "ZzfKr2ROdWQF"
      },
      "source": [
        "submission['SVC_Bagging'] = SVC_Bagging_prediction\n",
        "submission['SVC_Bagging_Accuracy'] = '78%'"
      ],
      "execution_count": null,
      "outputs": []
    },
    {
      "cell_type": "code",
      "metadata": {
        "id": "McITsKni2Az-"
      },
      "source": [
        "# GradientBoosting Model\n",
        "\n",
        "\n",
        "\n",
        "GBC_Bagging = BaggingClassifier(base_estimator=GBC, n_estimators=13, random_state=42).fit(X_train, y_train)\n",
        "\n",
        "GBC_Bagging_prediction = GBC_Bagging.predict(X_test)\n",
        "\n",
        "\n"
      ],
      "execution_count": null,
      "outputs": []
    },
    {
      "cell_type": "code",
      "metadata": {
        "id": "_XrxGbd52Axp"
      },
      "source": [
        "# Metrix   0.426\n",
        "\n",
        "print('Test Accuraccy: ', balanced_accuracy_score(y_test, GBC_Bagging_prediction))\n",
        "print(f'{classification_report(y_test, GBC_Bagging_prediction)}\\n')\n",
        "print(f'F1-score: {f1_score(y_test, GBC_Bagging_prediction):.3f}\\n')\n",
        "print(confusion_matrix(y_test, GBC_Bagging_prediction))\n",
        "\n"
      ],
      "execution_count": null,
      "outputs": []
    },
    {
      "cell_type": "code",
      "metadata": {
        "id": "wXqxd5gmdXC9"
      },
      "source": [
        "submission['GBC_Bagging'] = GBC_Bagging_prediction\n",
        "submission['GBC_Bagging_Accuracy'] = '91%'"
      ],
      "execution_count": null,
      "outputs": []
    },
    {
      "cell_type": "code",
      "metadata": {
        "id": "lAr-5oq_2CC5"
      },
      "source": [
        "# ExtraTrees Model\n",
        "\n",
        "\n",
        "\n",
        "EXT_Bagging = BaggingClassifier(base_estimator=EXT, n_estimators=13, random_state=42).fit(X_ros, y_ros)\n",
        "\n",
        "EXT_Bagging_prediction = EXT_Bagging.predict(test)\n",
        "\n",
        "\n"
      ],
      "execution_count": null,
      "outputs": []
    },
    {
      "cell_type": "code",
      "metadata": {
        "id": "80aJRYVq2GSp",
        "colab": {
          "base_uri": "https://localhost:8080/"
        },
        "outputId": "b644cf75-8f66-4054-ee79-faa7130270d3"
      },
      "source": [
        "# Metrix   0.435\n",
        "\n",
        "print('Test Accuraccy: ', balanced_accuracy_score(y_test, EXT_Bagging_prediction))\n",
        "print(f'{classification_report(y_test, EXT_Bagging_prediction)}\\n')\n",
        "print(f'F1-score: {f1_score(y_test, EXT_Bagging_prediction):.3f}\\n')\n",
        "print(confusion_matrix(y_test, EXT_Bagging_prediction))\n",
        "\n"
      ],
      "execution_count": null,
      "outputs": [
        {
          "output_type": "stream",
          "text": [
            "Test Accuraccy:  0.5\n",
            "              precision    recall  f1-score   support\n",
            "\n",
            "         0.0       0.89      1.00      0.94      2950\n",
            "         1.0       0.00      0.00      0.00       372\n",
            "\n",
            "    accuracy                           0.89      3322\n",
            "   macro avg       0.44      0.50      0.47      3322\n",
            "weighted avg       0.79      0.89      0.84      3322\n",
            "\n",
            "\n",
            "F1-score: 0.000\n",
            "\n",
            "[[2950    0]\n",
            " [ 372    0]]\n"
          ],
          "name": "stdout"
        },
        {
          "output_type": "stream",
          "text": [
            "/usr/local/lib/python3.7/dist-packages/sklearn/metrics/_classification.py:1272: UndefinedMetricWarning: Precision and F-score are ill-defined and being set to 0.0 in labels with no predicted samples. Use `zero_division` parameter to control this behavior.\n",
            "  _warn_prf(average, modifier, msg_start, len(result))\n"
          ],
          "name": "stderr"
        }
      ]
    },
    {
      "cell_type": "code",
      "metadata": {
        "id": "uup5RUW3dXx1"
      },
      "source": [
        "submission['EXT_Bagging'] = EXT_Bagging_prediction\n",
        "submission['EXT_Bagging_Accuracy'] = '91%'"
      ],
      "execution_count": null,
      "outputs": []
    },
    {
      "cell_type": "code",
      "metadata": {
        "id": "vV-s6k6u2C5B"
      },
      "source": [
        "# DecisionTree Model\n",
        "\n",
        "\n",
        "\n",
        "DT_Bagging = BaggingClassifier(base_estimator=DT, n_estimators=13, random_state=42).fit(X_train, y_train)\n",
        "\n",
        "DT_Bagging_prediction = DT_Bagging.predict(X_test)\n",
        "\n",
        "\n"
      ],
      "execution_count": null,
      "outputs": []
    },
    {
      "cell_type": "code",
      "metadata": {
        "id": "GHbf0bei2Cxp",
        "colab": {
          "base_uri": "https://localhost:8080/"
        },
        "outputId": "a2d61e41-f8e6-4d5f-c943-c24ee08dff85"
      },
      "source": [
        "# Metrix   0.585\n",
        "\n",
        "print('Test Accuraccy: ', balanced_accuracy_score(y_test, DT_Bagging_prediction))\n",
        "print(f'{classification_report(y_test, DT_Bagging_prediction)}\\n')\n",
        "print(f'F1-score: {f1_score(y_test, DT_Bagging_prediction):.3f}\\n')\n",
        "print(confusion_matrix(y_test, DT_Bagging_prediction))\n",
        "\n"
      ],
      "execution_count": null,
      "outputs": [
        {
          "output_type": "stream",
          "text": [
            "Test Accuraccy:  0.6883706943685073\n",
            "              precision    recall  f1-score   support\n",
            "\n",
            "         0.0       0.95      0.70      0.80      2950\n",
            "         1.0       0.22      0.68      0.33       372\n",
            "\n",
            "    accuracy                           0.70      3322\n",
            "   macro avg       0.58      0.69      0.57      3322\n",
            "weighted avg       0.86      0.70      0.75      3322\n",
            "\n",
            "\n",
            "F1-score: 0.334\n",
            "\n",
            "[[2063  887]\n",
            " [ 120  252]]\n"
          ],
          "name": "stdout"
        }
      ]
    },
    {
      "cell_type": "code",
      "metadata": {
        "id": "9WoK33ZldYg3"
      },
      "source": [
        "submission['DT_Bagging'] = DT_Bagging_prediction\n",
        "submission['DT_Bagging_Accuracy'] = '88%'"
      ],
      "execution_count": null,
      "outputs": []
    },
    {
      "cell_type": "code",
      "metadata": {
        "id": "vt0Ojz0lSSHb"
      },
      "source": [
        "# MLP Model\n",
        "\n",
        "\n",
        "\n",
        "MLP_Bagging = BaggingClassifier(base_estimator=MLP, n_estimators=13, random_state=42).fit(X_train, y_train)\n",
        "\n",
        "MLP_Bagging_prediction = MLP_Bagging.predict(X_test)\n",
        "\n",
        "\n"
      ],
      "execution_count": null,
      "outputs": []
    },
    {
      "cell_type": "code",
      "metadata": {
        "id": "k5u3V5uzSTor"
      },
      "source": [
        "# Metrix   0.383\n",
        "\n",
        "print('Test Accuraccy: ', balanced_accuracy_score(y_test, MLP_Bagging_prediction))\n",
        "print(f'{classification_report(y_test, MLP_Bagging_prediction)}\\n')\n",
        "print(f'F1-score: {f1_score(y_test, MLP_Bagging_prediction):.3f}\\n')\n",
        "print(confusion_matrix(y_test, MLP_Bagging_prediction))\n",
        "\n"
      ],
      "execution_count": null,
      "outputs": []
    },
    {
      "cell_type": "code",
      "metadata": {
        "id": "Rw9m6rHBdZcc"
      },
      "source": [
        "submission['MLP_Bagging'] = MLP_Bagging_prediction\n",
        "submission['MLP_Bagging_Accuracy'] = '68%'"
      ],
      "execution_count": null,
      "outputs": []
    },
    {
      "cell_type": "markdown",
      "metadata": {
        "id": "XHduKu-LFIgp"
      },
      "source": [
        "\n",
        "\n",
        "---\n",
        "\n",
        "# Boosting\n",
        "\n",
        "---\n",
        "\n"
      ]
    },
    {
      "cell_type": "code",
      "metadata": {
        "id": "UiGrrNj5FL96"
      },
      "source": [
        ""
      ],
      "execution_count": null,
      "outputs": []
    },
    {
      "cell_type": "code",
      "metadata": {
        "id": "s5AyZ55jFL3R"
      },
      "source": [
        "# LightGBM Model\n",
        "\n",
        "\n",
        "LGBM_Boosting = AdaBoostClassifier(base_estimator=LGBM, n_estimators=13, random_state=42).fit(X_ros, y_ros)\n",
        "\n",
        "LGBM_Boosting_prediction = LGBM_Boosting.predict(test)\n",
        "\n",
        "\n"
      ],
      "execution_count": null,
      "outputs": []
    },
    {
      "cell_type": "code",
      "metadata": {
        "id": "f6uToLieFL1L",
        "colab": {
          "base_uri": "https://localhost:8080/"
        },
        "outputId": "065bcfe7-2521-455d-d480-5016e4db7232"
      },
      "source": [
        "# Metrix    0.466\n",
        "\n",
        "print('Test Accuraccy: ', balanced_accuracy_score(y_test, LGBM_Boosting_prediction))\n",
        "print(f'{classification_report(y_test, LGBM_Boosting_prediction)}\\n')\n",
        "print(f'F1-score: {f1_score(y_test, LGBM_Boosting_prediction):.3f}\\n')\n",
        "print(confusion_matrix(y_test, LGBM_Boosting_prediction))\n",
        "\n"
      ],
      "execution_count": null,
      "outputs": [
        {
          "output_type": "stream",
          "text": [
            "Test Accuraccy:  0.5\n",
            "              precision    recall  f1-score   support\n",
            "\n",
            "           0       0.89      1.00      0.94      2950\n",
            "           1       0.00      0.00      0.00       372\n",
            "\n",
            "    accuracy                           0.89      3322\n",
            "   macro avg       0.44      0.50      0.47      3322\n",
            "weighted avg       0.79      0.89      0.84      3322\n",
            "\n",
            "\n",
            "F1-score: 0.000\n",
            "\n",
            "[[2950    0]\n",
            " [ 372    0]]\n"
          ],
          "name": "stdout"
        },
        {
          "output_type": "stream",
          "text": [
            "/usr/local/lib/python3.7/dist-packages/sklearn/metrics/_classification.py:1272: UndefinedMetricWarning: Precision and F-score are ill-defined and being set to 0.0 in labels with no predicted samples. Use `zero_division` parameter to control this behavior.\n",
            "  _warn_prf(average, modifier, msg_start, len(result))\n"
          ],
          "name": "stderr"
        }
      ]
    },
    {
      "cell_type": "code",
      "metadata": {
        "id": "4gomi-ymeqvr"
      },
      "source": [
        "submission['LGBM_Boosting'] = LGBM_Boosting_prediction\n",
        "submission['LGBM_Boosting_Accuracy'] = '68%'"
      ],
      "execution_count": null,
      "outputs": []
    },
    {
      "cell_type": "code",
      "metadata": {
        "id": "4mFTtwqGPYoj"
      },
      "source": [
        "# LogisticRegression Model\n",
        "\n",
        "\n",
        "\n",
        "LR_Boosting = AdaBoostClassifier(base_estimator=LR, n_estimators=13, random_state=42).fit(X_train, y_train)\n",
        "\n",
        "LR_Boosting_prediction = LR_Boosting.predict(X_test)\n",
        "\n",
        "\n"
      ],
      "execution_count": null,
      "outputs": []
    },
    {
      "cell_type": "code",
      "metadata": {
        "colab": {
          "base_uri": "https://localhost:8080/"
        },
        "id": "Vd7lbNG9PYmz",
        "outputId": "63cac086-abc6-4dbd-eb9a-4a3de43922cf"
      },
      "source": [
        "# Metrix   0.546\n",
        "\n",
        "print('Test Accuraccy: ', balanced_accuracy_score(y_test, LR_Boosting_prediction))\n",
        "print(f'{classification_report(y_test, LR_Boosting_prediction)}\\n')\n",
        "print(f'F1-score: {f1_score(y_test, LR_Boosting_prediction):.3f}\\n')\n",
        "print(confusion_matrix(y_test, LR_Boosting_prediction))\n",
        "\n"
      ],
      "execution_count": null,
      "outputs": [
        {
          "output_type": "stream",
          "text": [
            "Test Accuraccy:  0.5033542919628212\n",
            "              precision    recall  f1-score   support\n",
            "\n",
            "           0       0.89      1.00      0.94      2950\n",
            "           1       0.43      0.01      0.02       372\n",
            "\n",
            "    accuracy                           0.89      3322\n",
            "   macro avg       0.66      0.50      0.48      3322\n",
            "weighted avg       0.84      0.89      0.84      3322\n",
            "\n",
            "\n",
            "F1-score: 0.016\n",
            "\n",
            "[[2946    4]\n",
            " [ 369    3]]\n"
          ],
          "name": "stdout"
        }
      ]
    },
    {
      "cell_type": "code",
      "metadata": {
        "id": "Vo8BhN79erl8"
      },
      "source": [
        "submission['LR_Boosting'] = LR_Boosting_prediction\n",
        "submission['LR_Boosting_Accuracy'] = '87%'"
      ],
      "execution_count": null,
      "outputs": []
    },
    {
      "cell_type": "code",
      "metadata": {
        "id": "oQj9UPI6PYkv"
      },
      "source": [
        "# RandomForest Model\n",
        "\n",
        "\n",
        "\n",
        "RF_Boosting = AdaBoostClassifier(base_estimator=RF, n_estimators=13, random_state=42).fit(X_train, y_train)\n",
        "\n",
        "RF_Boosting_prediction = RF_Boosting.predict(X_test)\n",
        "\n",
        "\n"
      ],
      "execution_count": null,
      "outputs": []
    },
    {
      "cell_type": "code",
      "metadata": {
        "colab": {
          "base_uri": "https://localhost:8080/"
        },
        "id": "Ke05HLbePrpD",
        "outputId": "e53c9696-1b48-4266-8072-e48013a2cb0e"
      },
      "source": [
        "# Metrix   0.535\n",
        "\n",
        "print('Test Accuraccy: ', balanced_accuracy_score(y_test, RF_Boosting_prediction))\n",
        "print(f'{classification_report(y_test, RF_Boosting_prediction)}\\n')\n",
        "print(f'F1-score: {f1_score(y_test, RF_Boosting_prediction):.3f}\\n')\n",
        "print(confusion_matrix(y_test, RF_Boosting_prediction))\n",
        "\n"
      ],
      "execution_count": null,
      "outputs": [
        {
          "output_type": "stream",
          "text": [
            "Test Accuraccy:  0.5868871878986697\n",
            "              precision    recall  f1-score   support\n",
            "\n",
            "           0       0.91      0.81      0.86      2950\n",
            "           1       0.20      0.36      0.25       372\n",
            "\n",
            "    accuracy                           0.76      3322\n",
            "   macro avg       0.55      0.59      0.56      3322\n",
            "weighted avg       0.83      0.76      0.79      3322\n",
            "\n",
            "\n",
            "F1-score: 0.254\n",
            "\n",
            "[[2400  550]\n",
            " [ 238  134]]\n"
          ],
          "name": "stdout"
        }
      ]
    },
    {
      "cell_type": "code",
      "metadata": {
        "id": "A3ccYh17esct"
      },
      "source": [
        "submission['RF_Boosting'] = RF_Boosting_prediction\n",
        "submission['RF_Boosting_Accuracy'] = '91%'"
      ],
      "execution_count": null,
      "outputs": []
    },
    {
      "cell_type": "code",
      "metadata": {
        "id": "ge-egvnDhyOG"
      },
      "source": [
        "# SVC Model\n",
        "\n",
        "\n",
        "\n",
        "SVC_Boosting = AdaBoostClassifier(base_estimator=SVC, n_estimators=13, algorithm='SAMME', random_state=42).fit(X_train, y_train)\n",
        "\n",
        "SVC_Boosting_prediction = SVC_Boosting.predict(X_test)\n",
        "\n",
        "\n"
      ],
      "execution_count": null,
      "outputs": []
    },
    {
      "cell_type": "code",
      "metadata": {
        "id": "Q_ZntWdehyMC",
        "colab": {
          "base_uri": "https://localhost:8080/"
        },
        "outputId": "e998843e-7062-400b-8cab-bb029a19f20e"
      },
      "source": [
        "# Metrix\n",
        "\n",
        "print('Test Accuraccy: ', balanced_accuracy_score(y_test, SVC_Boosting_prediction))\n",
        "print(f'{classification_report(y_test, SVC_Boosting_prediction)}\\n')\n",
        "print(f'F1-score: {f1_score(y_test, SVC_Boosting_prediction):.3f}\\n')\n",
        "print(confusion_matrix(y_test, SVC_Boosting_prediction))\n",
        "\n"
      ],
      "execution_count": null,
      "outputs": [
        {
          "output_type": "stream",
          "text": [
            "Test Accuraccy:  0.5246892655367231\n",
            "              precision    recall  f1-score   support\n",
            "\n",
            "           0       0.89      0.88      0.89      2950\n",
            "           1       0.15      0.17      0.16       372\n",
            "\n",
            "    accuracy                           0.80      3322\n",
            "   macro avg       0.52      0.52      0.52      3322\n",
            "weighted avg       0.81      0.80      0.81      3322\n",
            "\n",
            "\n",
            "F1-score: 0.159\n",
            "\n",
            "[[2604  346]\n",
            " [ 310   62]]\n"
          ],
          "name": "stdout"
        }
      ]
    },
    {
      "cell_type": "code",
      "metadata": {
        "id": "9stUdxMAetoY"
      },
      "source": [
        "submission['SVC_Boosting'] = SVC_Boosting_prediction\n",
        "submission['SVC_Boosting_Accuracy'] = '68%'"
      ],
      "execution_count": null,
      "outputs": []
    },
    {
      "cell_type": "code",
      "metadata": {
        "id": "EEjGhJ8ThyHm"
      },
      "source": [
        "# GradientBoosting Model\n",
        "\n",
        "\n",
        "\n",
        "GBC_Boosting = AdaBoostClassifier(base_estimator=GBC, n_estimators=13, random_state=42).fit(X_train, y_train)\n",
        "\n",
        "GBC_Boosting_prediction = GBC_Boosting.predict(X_test)\n",
        "\n",
        "\n"
      ],
      "execution_count": null,
      "outputs": []
    },
    {
      "cell_type": "code",
      "metadata": {
        "id": "gA3XSu_ehyFt",
        "colab": {
          "base_uri": "https://localhost:8080/"
        },
        "outputId": "28249e91-d1cd-40e6-9178-460ee3fb3910"
      },
      "source": [
        "# Metrix   0.403\n",
        "\n",
        "print('Test Accuraccy: ', balanced_accuracy_score(y_test, GBC_Boosting_prediction))\n",
        "print(f'{classification_report(y_test, GBC_Boosting_prediction)}\\n')\n",
        "print(f'F1-score: {f1_score(y_test, GBC_Boosting_prediction):.3f}\\n')\n",
        "print(confusion_matrix(y_test, GBC_Boosting_prediction))\n",
        "\n"
      ],
      "execution_count": null,
      "outputs": [
        {
          "output_type": "stream",
          "text": [
            "Test Accuraccy:  0.869757174392936\n",
            "              precision    recall  f1-score   support\n",
            "\n",
            "         0.0       0.92      0.94      0.93      3187\n",
            "         1.0       0.45      0.36      0.40       437\n",
            "\n",
            "    accuracy                           0.87      3624\n",
            "   macro avg       0.68      0.65      0.66      3624\n",
            "weighted avg       0.86      0.87      0.86      3624\n",
            "\n",
            "\n",
            "F1-score: 0.403\n",
            "\n",
            "[[2993  194]\n",
            " [ 278  159]]\n"
          ],
          "name": "stdout"
        }
      ]
    },
    {
      "cell_type": "code",
      "metadata": {
        "id": "F9PNLwTOeutW"
      },
      "source": [
        "submission['GBC_Boosting'] = GBC_Boosting_prediction\n",
        "submission['GBC_Boosting_Accuracy'] = '90%'"
      ],
      "execution_count": null,
      "outputs": []
    },
    {
      "cell_type": "code",
      "metadata": {
        "id": "c_nCSNK7hyDu"
      },
      "source": [
        "# ExtraTrees Model\n",
        "\n",
        "\n",
        "\n",
        "EXT_Boosting = AdaBoostClassifier(base_estimator=EXT, n_estimators=13, random_state=42).fit(X_train, y_train)\n",
        "\n",
        "EXT_Boosting_prediction = EXT_Boosting.predict(X_test)\n",
        "\n",
        "\n"
      ],
      "execution_count": null,
      "outputs": []
    },
    {
      "cell_type": "code",
      "metadata": {
        "id": "xEI25an-h0l5",
        "colab": {
          "base_uri": "https://localhost:8080/"
        },
        "outputId": "775f95ad-0fef-4c5c-8374-e91465fb7516"
      },
      "source": [
        "# Metrix  0.441\n",
        "\n",
        "print('Test Accuraccy: ', balanced_accuracy_score(y_test, EXT_Boosting_prediction))\n",
        "print(f'{classification_report(y_test, EXT_Boosting_prediction)}\\n')\n",
        "print(f'F1-score: {f1_score(y_test, EXT_Boosting_prediction):.3f}\\n')\n",
        "print(confusion_matrix(y_test, EXT_Boosting_prediction))\n",
        "\n"
      ],
      "execution_count": null,
      "outputs": [
        {
          "output_type": "stream",
          "text": [
            "Test Accuraccy:  0.5103663203936577\n",
            "              precision    recall  f1-score   support\n",
            "\n",
            "           0       0.89      0.99      0.94      2950\n",
            "           1       0.26      0.03      0.06       372\n",
            "\n",
            "    accuracy                           0.88      3322\n",
            "   macro avg       0.58      0.51      0.50      3322\n",
            "weighted avg       0.82      0.88      0.84      3322\n",
            "\n",
            "\n",
            "F1-score: 0.057\n",
            "\n",
            "[[2916   34]\n",
            " [ 360   12]]\n"
          ],
          "name": "stdout"
        }
      ]
    },
    {
      "cell_type": "code",
      "metadata": {
        "id": "hV_oXzhoewAq"
      },
      "source": [
        "submission['EXT_Boosting'] = EXT_Boosting_prediction\n",
        "submission['EXT_Boosting_Accuracy'] = '91%'"
      ],
      "execution_count": null,
      "outputs": []
    },
    {
      "cell_type": "code",
      "metadata": {
        "id": "oXTZBT-eh0jh"
      },
      "source": [
        "# DecisionTree Model\n",
        "\n",
        "\n",
        "\n",
        "DT_Boosting = AdaBoostClassifier(base_estimator=DT, n_estimators=13, random_state=42).fit(X_train, y_train)\n",
        "\n",
        "DT_Boosting_prediction = DT_Boosting.predict(X_test)\n",
        "\n",
        "\n"
      ],
      "execution_count": null,
      "outputs": []
    },
    {
      "cell_type": "code",
      "metadata": {
        "id": "UeRGwv-ch0hi",
        "colab": {
          "base_uri": "https://localhost:8080/"
        },
        "outputId": "24785c36-3116-4633-902c-0eb17a9c79e9"
      },
      "source": [
        "# Metrix   0.494\n",
        "\n",
        "print('Test Accuraccy: ', balanced_accuracy_score(y_test, DT_Boosting_prediction))\n",
        "print(f'{classification_report(y_test, DT_Boosting_prediction)}\\n')\n",
        "print(f'F1-score: {f1_score(y_test, DT_Boosting_prediction):.3f}\\n')\n",
        "print(confusion_matrix(y_test, DT_Boosting_prediction))\n",
        "\n"
      ],
      "execution_count": null,
      "outputs": [
        {
          "output_type": "stream",
          "text": [
            "Test Accuraccy:  0.5606360488427191\n",
            "              precision    recall  f1-score   support\n",
            "\n",
            "           0       0.90      0.80      0.85      2950\n",
            "           1       0.17      0.32      0.22       372\n",
            "\n",
            "    accuracy                           0.75      3322\n",
            "   macro avg       0.54      0.56      0.54      3322\n",
            "weighted avg       0.82      0.75      0.78      3322\n",
            "\n",
            "\n",
            "F1-score: 0.221\n",
            "\n",
            "[[2372  578]\n",
            " [ 254  118]]\n"
          ],
          "name": "stdout"
        }
      ]
    },
    {
      "cell_type": "code",
      "metadata": {
        "id": "qhNyQA7XexTe"
      },
      "source": [
        "submission['DT_Boosting'] = DT_Boosting_prediction\n",
        "submission['DT_Boosting_Accuracy'] = '87%'"
      ],
      "execution_count": null,
      "outputs": []
    },
    {
      "cell_type": "markdown",
      "metadata": {
        "id": "n7zssY-eBsXE"
      },
      "source": [
        "\n",
        "\n",
        "---\n",
        "\n",
        "# Stacking\n",
        "\n",
        "---\n",
        "\n"
      ]
    },
    {
      "cell_type": "code",
      "metadata": {
        "id": "cSE900mBHrZK"
      },
      "source": [
        "\n",
        "from sklearn.svm import SVC"
      ],
      "execution_count": null,
      "outputs": []
    },
    {
      "cell_type": "code",
      "metadata": {
        "id": "Zqh-n9nfIf29"
      },
      "source": [
        "# Base Models\n",
        "\n",
        "estimators = [\n",
        "              ('LGBM', LGBMClassifier(**LGBM_params)),\n",
        "              ('XGBM', XGBClassifier(**XGBM_params)),\n",
        "              ('RF',   RandomForestClassifier(**RF_params)),\n",
        "              ('LR',   LogisticRegression(**LR_params)),\n",
        "              ('KNN',  KNeighborsClassifier(**KNN_params)),\n",
        "              ('SVC',  SVC(**SVC_params)),\n",
        "              #('GBC',  GradientBoostingClassifier(**GBC_params)),\n",
        "              ('EXT',  ExtraTreesClassifier(**EXT_params)),\n",
        "              ('DT',   DecisionTreeClassifier(**DT_params)),\n",
        "              #('MLP',  MLPClassifier(**MLP_params)),\n",
        "\n",
        "              ('LGBM_Bag', BaggingClassifier(base_estimator=LGBM, n_estimators=13, random_state=42)),\n",
        "              # ('XGBM_Bag', BaggingClassifier(base_estimator=XGBM, n_estimators=13, random_state=42)),\n",
        "              ('RF_Bag',   BaggingClassifier(base_estimator=RF, n_estimators=13, random_state=42)),\n",
        "              ('LR_Bag',   BaggingClassifier(base_estimator=LR, n_estimators=13, random_state=42)),\n",
        "              # ('KNN_Bag',  BaggingClassifier(base_estimator=KNN, n_estimators=13, random_state=42)),\n",
        "              # ('SVC_Bag',  BaggingClassifier(base_estimator=SVC, n_estimators=13, random_state=42)),\n",
        "              #('GBC_Bag',  BaggingClassifier(base_estimator=GBC, n_estimators=13, random_state=42)),\n",
        "              ('EXT_Bag',  BaggingClassifier(base_estimator=EXT, n_estimators=13, random_state=42)),\n",
        "              ('DT_Bag',   BaggingClassifier(base_estimator=DT, n_estimators=13, random_state=42)),\n",
        "              # ('MLP_Bag',  BaggingClassifier(base_estimator=MLP, n_estimators=13, random_state=42)),\n",
        "              \n",
        "              ('LGBM_Boost', AdaBoostClassifier(base_estimator=LGBM, n_estimators=13, random_state=42)),\n",
        "              #('XGBM_Boost', AdaBoostClassifier(base_estimator=XGBM, n_estimators=13, random_state=42)),\n",
        "              ('RF_Boost',   AdaBoostClassifier(base_estimator=RF, n_estimators=13, random_state=42)),\n",
        "              ('LR_Boost',   AdaBoostClassifier(base_estimator=LR, n_estimators=13, random_state=42)),\n",
        "              #('KNN_Boost',  AdaBoostClassifier(base_estimator=KNN, n_estimators=13, random_state=42)),\n",
        "              #('SVC_Boost',  AdaBoostClassifier(base_estimator=SVC, n_estimators=13, random_state=42)),\n",
        "              #('GBC_Boost',  AdaBoostClassifier(base_estimator=GBC, n_estimators=13, random_state=42)),\n",
        "              ('EXT_Boost',  AdaBoostClassifier(base_estimator=EXT, n_estimators=13, random_state=42)),\n",
        "              ('DT_Boost',   AdaBoostClassifier(base_estimator=DT, n_estimators=13, random_state=42)),\n",
        "              #('MLP_Boost',  AdaBoostClassifier(base_estimator=MLP, n_estimators=13, random_state=42)),\n",
        "              \n",
        "              \n",
        "]"
      ],
      "execution_count": null,
      "outputs": []
    },
    {
      "cell_type": "code",
      "metadata": {
        "id": "j5CWiYTgGLwn"
      },
      "source": [
        "# Stacking Model\n",
        "\n",
        "CV = StratifiedKFold(n_splits=5)\n",
        "\n",
        "Stacking_model = StackingClassifier(estimators=estimators, final_estimator=LGBMClassifier(), cv=CV)\n",
        "\n",
        "Stacking_model.fit(X_ros, y_ros)\n"
      ],
      "execution_count": null,
      "outputs": []
    },
    {
      "cell_type": "code",
      "metadata": {
        "id": "VIp-lqHcQKc3"
      },
      "source": [
        "Stacking_prediction = Stacking_model.predict(test)"
      ],
      "execution_count": null,
      "outputs": []
    },
    {
      "cell_type": "code",
      "metadata": {
        "id": "GURHIq-XFT4C"
      },
      "source": [
        "submission = pd.DataFrame()\n",
        "\n",
        "submission['ID'] = ID['ID']\n",
        "submission['target'] = final_predictions"
      ],
      "execution_count": null,
      "outputs": []
    },
    {
      "cell_type": "code",
      "metadata": {
        "id": "YFJQDCSSFtzL"
      },
      "source": [
        "submission.to_csv('the_Best.csv', index=False)"
      ],
      "execution_count": null,
      "outputs": []
    },
    {
      "cell_type": "code",
      "metadata": {
        "colab": {
          "base_uri": "https://localhost:8080/"
        },
        "id": "s5pp-zy9GLuZ",
        "outputId": "1eacd4b0-0767-41ea-89cb-40e0905d02af"
      },
      "source": [
        "# Metrix    0.699\n",
        "\n",
        "print('Test Accuraccy: ', balanced_accuracy_score(y_test, Stacking_prediction))\n",
        "print(f'{classification_report(y_test, Stacking_prediction)}\\n')\n",
        "print(f'F1-score: {f1_score(y_test, Stacking_prediction):.3f}\\n')\n",
        "print(confusion_matrix(y_test, Stacking_prediction))\n",
        "\n"
      ],
      "execution_count": null,
      "outputs": [
        {
          "output_type": "stream",
          "text": [
            "Test Accuraccy:  0.7939282798611924\n",
            "              precision    recall  f1-score   support\n",
            "\n",
            "         0.0       0.95      0.97      0.96      3187\n",
            "         1.0       0.77      0.61      0.68       437\n",
            "\n",
            "    accuracy                           0.93      3624\n",
            "   macro avg       0.86      0.79      0.82      3624\n",
            "weighted avg       0.93      0.93      0.93      3624\n",
            "\n",
            "\n",
            "F1-score: 0.682\n",
            "\n",
            "[[3106   81]\n",
            " [ 169  268]]\n"
          ],
          "name": "stdout"
        }
      ]
    },
    {
      "cell_type": "code",
      "metadata": {
        "id": "xqBn3DurGLgN"
      },
      "source": [
        "# Split train data in 2 parts, training and validation\n",
        "training, valid, ytraining, yvalid = train_test_split(X_ros, y_ros, test_size=0.3)\n",
        "\n",
        "\n",
        "\n",
        "# Specify models\n",
        "model1 = RandomForestClassifier(**RF_params)\n",
        "model2 = LogisticRegression(**LR_params)\n",
        "model3 = CatBoostClassifier(**CatB_params)\n",
        "model4 = XGBClassifier(**XGBM_params)\n",
        "model5 = LGBMClassifier(**LGBM_params)\n",
        "model6 = KNeighborsClassifier(**KNN_params)\n",
        "model7 = SVC(**SVC_params)\n",
        "model8 = GradientBoostingClassifier(**GBC_params)\n",
        "model9 = ExtraTreesClassifier(**EXT_params)\n",
        "model10 = DecisionTreeClassifier(**DT_params)\n",
        "model11 = MLPClassifier(**MLP_params)\n",
        "\n",
        "\n",
        "\n",
        "# Bagging\n",
        "model12 = BaggingClassifier(base_estimator=LGBM, n_estimators=13, random_state=42)\n",
        "model13 = BaggingClassifier(base_estimator=XGBM, n_estimators=13, random_state=42)\n",
        "model14 = BaggingClassifier(base_estimator=RF, n_estimators=13, random_state=42)\n",
        "model15 = BaggingClassifier(base_estimator=LR, n_estimators=13, random_state=42)\n",
        "model16 = BaggingClassifier(base_estimator=KNN, n_estimators=13, random_state=42)\n",
        "model17 = BaggingClassifier(base_estimator=GBC, n_estimators=13, random_state=42)\n",
        "model18 = BaggingClassifier(base_estimator=EXT, n_estimators=13, random_state=42)\n",
        "model19 = BaggingClassifier(base_estimator=DT, n_estimators=13, random_state=42)\n",
        "model20 = BaggingClassifier(base_estimator=MLP, n_estimators=13, random_state=42)\n",
        "\n",
        "\n",
        "\n",
        "# Boosting\n",
        "model21 = AdaBoostClassifier(base_estimator=LGBM, n_estimators=13, random_state=42)\n",
        "model22 = AdaBoostClassifier(base_estimator=RF, n_estimators=13, random_state=42)\n",
        "model23 = AdaBoostClassifier(base_estimator=LR, n_estimators=13, random_state=42)\n",
        "model24 = AdaBoostClassifier(base_estimator=GBC, n_estimators=13, random_state=42)\n",
        "model25 = AdaBoostClassifier(base_estimator=EXT, n_estimators=13, random_state=42)\n",
        "model26 = AdaBoostClassifier(base_estimator=DT, n_estimators=13, random_state=42)\n",
        "\n",
        "\n",
        "\n",
        "# Fit models\n",
        "model1.fit(training, ytraining)\n",
        "model2.fit(training, ytraining)\n",
        "model3.fit(training, ytraining)\n",
        "model4.fit(training, ytraining)\n",
        "model5.fit(training, ytraining)\n",
        "model6.fit(training, ytraining)\n",
        "model7.fit(training, ytraining)\n",
        "model8.fit(training, ytraining)\n",
        "model9.fit(training, ytraining)\n",
        "model10.fit(training, ytraining)\n",
        "model11.fit(training, ytraining)\n",
        "\n",
        "\n",
        "\n",
        "model12.fit(training, ytraining)\n",
        "model13.fit(training, ytraining)\n",
        "model14.fit(training, ytraining)\n",
        "model15.fit(training, ytraining)\n",
        "model16.fit(training, ytraining)\n",
        "model17.fit(training, ytraining)\n",
        "model18.fit(training, ytraining)\n",
        "model19.fit(training, ytraining)\n",
        "model20.fit(training, ytraining)\n",
        "\n",
        "\n",
        "\n",
        "\n",
        "\n",
        "model21.fit(training, ytraining)\n",
        "model22.fit(training, ytraining)\n",
        "model23.fit(training, ytraining)\n",
        "model24.fit(training, ytraining)\n",
        "model25.fit(training, ytraining)\n",
        "model26.fit(training, ytraining)\n",
        "\n",
        "\n",
        "\n",
        "\n",
        "# make predictions for validation\n",
        "preds1 = model1.predict(valid)\n",
        "preds2 = model2.predict(valid)\n",
        "preds3 = model3.predict(valid)\n",
        "preds4 = model4.predict(valid)\n",
        "preds5 = model5.predict(valid)\n",
        "preds6 = model6.predict(valid)\n",
        "preds7 = model7.predict(valid)\n",
        "preds8 = model8.predict(valid)\n",
        "preds9 = model9.predict(valid)\n",
        "preds10 = model10.predict(valid)\n",
        "preds11 = model11.predict(valid)\n",
        "\n",
        "\n",
        "\n",
        "\n",
        "preds12 = model12.predict(valid)\n",
        "preds13 = model13.predict(valid)\n",
        "preds14 = model14.predict(valid)\n",
        "preds15 = model15.predict(valid)\n",
        "preds16 = model16.predict(valid)\n",
        "preds17 = model17.predict(valid)\n",
        "preds18 = model18.predict(valid)\n",
        "preds19 = model19.predict(valid)\n",
        "preds20 = model20.predict(valid)\n",
        "preds21 = model21.predict(valid)\n",
        "preds22 = model22.predict(valid)\n",
        "preds23 = model23.predict(valid)\n",
        "preds24 = model24.predict(valid)\n",
        "preds25 = model25.predict(valid)\n",
        "preds26 = model26.predict(valid)\n",
        "\n",
        "\n",
        "# make predictions for test data\n",
        "test_preds1 = model1.predict(test)\n",
        "test_preds2 = model2.predict(test)\n",
        "test_preds3 = model3.predict(test)\n",
        "test_preds4 = model4.predict(test)\n",
        "test_preds5 = model5.predict(test)\n",
        "test_preds6 = model6.predict(test)\n",
        "test_preds7 = model7.predict(test)\n",
        "test_preds8 = model8.predict(test)\n",
        "test_preds9 = model9.predict(test)\n",
        "test_preds10 = model10.predict(test)\n",
        "test_preds11 = model11.predict(test)\n",
        "\n",
        "\n",
        "\n",
        "\n",
        "\n",
        "test_preds12 = model12.predict(test)\n",
        "test_preds13 = model13.predict(test)\n",
        "test_preds14 = model14.predict(test)\n",
        "test_preds15 = model15.predict(test)\n",
        "test_preds16 = model16.predict(test)\n",
        "test_preds17 = model17.predict(test)\n",
        "test_preds18 = model18.predict(test)\n",
        "test_preds19 = model19.predict(test)\n",
        "test_preds20 = model20.predict(test)\n",
        "test_preds21 = model21.predict(test)\n",
        "test_preds22 = model22.predict(test)\n",
        "test_preds23 = model23.predict(test)\n",
        "test_preds24 = model24.predict(test)\n",
        "test_preds25 = model25.predict(test)\n",
        "test_preds26 = model26.predict(test)\n",
        "\n",
        "\n",
        "# Form a new dataset for valid and test via stacking the predictions\n",
        "stacked_predictions = np.column_stack((preds1, preds2, preds3, preds4, preds5, preds6, preds7, preds8, preds9, preds10, preds11, preds12, preds13, preds14, preds15, preds16, preds17, preds18, preds19, preds20, preds21, preds22, preds23, preds24, preds25, preds26))\n",
        "stacked_test_predictions = np.column_stack((test_preds1, test_preds2, test_preds3, test_preds4, test_preds5, test_preds6, test_preds7, test_preds8, test_preds9, test_preds10, test_preds11, test_preds12, test_preds13, test_preds14, test_preds15, test_preds16, test_preds17, test_preds18, test_preds19, test_preds20, test_preds21, test_preds22, test_preds23, test_preds24, test_preds25, test_preds26))\n",
        "\n",
        "\n",
        "# specify meta model\n",
        "meta_model = LGBMClassifier(**LR_params)\n",
        "\n",
        "  \n",
        "# fit meta model on stacked predictions\n",
        "meta_model.fit(stacked_predictions, yvalid)\n",
        "\n",
        "\n",
        "# make predictions on the stacked predictions of the test data\n",
        "final_predictions = meta_model.predict(stacked_test_predictions)\n"
      ],
      "execution_count": null,
      "outputs": []
    },
    {
      "cell_type": "code",
      "metadata": {
        "id": "wpwZSwooGLd6",
        "colab": {
          "base_uri": "https://localhost:8080/"
        },
        "outputId": "080a126d-2237-43a2-a608-217344377aba"
      },
      "source": [
        "# Metrix\n",
        "\n",
        "print('Test Accuraccy: ', balanced_accuracy_score(y_test, final_predictions))\n",
        "print(f'{classification_report(y_test, final_predictions)}\\n')\n",
        "print(f'F1-score: {f1_score(y_test, final_predictions):.3f}\\n')\n",
        "print(confusion_matrix(y_test, final_predictions))\n",
        "\n"
      ],
      "execution_count": null,
      "outputs": [
        {
          "output_type": "stream",
          "text": [
            "Test Accuraccy:  0.8597560975609756\n",
            "              precision    recall  f1-score   support\n",
            "\n",
            "           0       0.81      0.73      0.77        52\n",
            "           1       0.88      0.92      0.90       112\n",
            "\n",
            "    accuracy                           0.86       164\n",
            "   macro avg       0.84      0.83      0.83       164\n",
            "weighted avg       0.86      0.86      0.86       164\n",
            "\n",
            "\n",
            "F1-score: 0.900\n",
            "\n",
            "[[ 38  14]\n",
            " [  9 103]]\n"
          ],
          "name": "stdout"
        }
      ]
    },
    {
      "cell_type": "code",
      "metadata": {
        "id": "eFd1NfpWbGwC"
      },
      "source": [
        ""
      ],
      "execution_count": null,
      "outputs": []
    },
    {
      "cell_type": "code",
      "metadata": {
        "id": "XQD2RvaLbGuA"
      },
      "source": [
        "# Base Models\n",
        "\n",
        "estimators = [\n",
        "              ('LGBM', LGBMClassifier(**LGBM_params)),\n",
        "              ('XGBM', XGBClassifier(**XGBM_params)),\n",
        "              #('CatBoost', CatBoostClassifier(**CatB_params)),\n",
        "              ('RF', RandomForestClassifier(**RF_params)),\n",
        "              ('LR', LogisticRegression(**LR_params)),\n",
        "              ('KNN', KNeighborsClassifier(**KNN_params)),\n",
        "              ('SVC', SVC(**SVC_params)),\n",
        "              ('GBC', GradientBoostingClassifier(**GBC_params)),\n",
        "              ('EXT', ExtraTreesClassifier(**EXT_params)),\n",
        "              ('DT',  DecisionTreeClassifier(**DT_params)),\n",
        "              ('MLP', MLPClassifier(**MLP_params)),\n",
        "]"
      ],
      "execution_count": null,
      "outputs": []
    },
    {
      "cell_type": "code",
      "metadata": {
        "id": "gLzVSdJEbGsE"
      },
      "source": [
        "# Voting Model\n",
        "\n",
        "\n",
        "\n",
        "Voting_model = VotingClassifier(estimators=estimators, voting='hard',  n_jobs=-1)\n",
        "\n",
        "Voting_model.fit(X_train, y_train)\n",
        "\n",
        "Voting_prediction = Voting_model.predict(X_test)"
      ],
      "execution_count": null,
      "outputs": []
    },
    {
      "cell_type": "code",
      "metadata": {
        "id": "00lbYw7GbGpx",
        "colab": {
          "base_uri": "https://localhost:8080/"
        },
        "outputId": "e61ac35d-81be-436a-d2a0-4dc8301e4e86"
      },
      "source": [
        "# Metrix\n",
        "\n",
        "print('Test Accuraccy: ', balanced_accuracy_score(y_test, Voting_prediction))\n",
        "print(f'{classification_report(y_test, Voting_prediction)}\\n')\n",
        "print(f'F1-score: {f1_score(y_test, Voting_prediction):.3f}\\n')\n",
        "print(confusion_matrix(y_test, Voting_prediction))\n",
        "\n"
      ],
      "execution_count": null,
      "outputs": [
        {
          "output_type": "stream",
          "text": [
            "Test Accuraccy:  0.9207317073170732\n",
            "              precision    recall  f1-score   support\n",
            "\n",
            "           0       0.91      0.83      0.87        52\n",
            "           1       0.92      0.96      0.94       112\n",
            "\n",
            "    accuracy                           0.92       164\n",
            "   macro avg       0.92      0.90      0.91       164\n",
            "weighted avg       0.92      0.92      0.92       164\n",
            "\n",
            "\n",
            "F1-score: 0.943\n",
            "\n",
            "[[ 43   9]\n",
            " [  4 108]]\n"
          ],
          "name": "stdout"
        }
      ]
    },
    {
      "cell_type": "code",
      "metadata": {
        "id": "5ehBVOTuj6o_"
      },
      "source": [
        "submission['Voting'] = Voting_prediction\n",
        "submission['Voting_Accuracy'] = '92%'"
      ],
      "execution_count": null,
      "outputs": []
    }
  ]
}