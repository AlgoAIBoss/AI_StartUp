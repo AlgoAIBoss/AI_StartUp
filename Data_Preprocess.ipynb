{
  "nbformat": 4,
  "nbformat_minor": 0,
  "metadata": {
    "colab": {
      "name": "Data_Preprocess.ipynb",
      "provenance": [],
      "collapsed_sections": [
        "3UdNgSF4PNz8",
        "_IEkeyZxPqIq",
        "SmMO8KdU3s-x",
        "tAvWSuL-SpXK",
        "GjgTX08HOjBf"
      ],
      "include_colab_link": true
    },
    "kernelspec": {
      "display_name": "Python 3",
      "name": "python3"
    },
    "language_info": {
      "name": "python"
    }
  },
  "cells": [
    {
      "cell_type": "markdown",
      "metadata": {
        "id": "view-in-github",
        "colab_type": "text"
      },
      "source": [
        "<a href=\"https://colab.research.google.com/github/AlgoAIBoss/AutoInland-Vehicle-Insurance-Claim-Challenge/blob/main/Data_Preprocess.ipynb\" target=\"_parent\"><img src=\"https://colab.research.google.com/assets/colab-badge.svg\" alt=\"Open In Colab\"/></a>"
      ]
    },
    {
      "cell_type": "markdown",
      "metadata": {
        "id": "-_QHK1MyiYpe"
      },
      "source": [
        "\n",
        "\n",
        "---\n",
        "\n",
        "# Load\n",
        "\n",
        "---\n",
        "\n"
      ]
    },
    {
      "cell_type": "code",
      "metadata": {
        "id": "G5seo50qPEZL"
      },
      "source": [
        "import pandas as pd\n",
        "import numpy as np\n",
        "from sklearn.experimental import enable_iterative_imputer\n",
        "from sklearn.impute import SimpleImputer, MissingIndicator, KNNImputer, IterativeImputer\n",
        "from sklearn.ensemble import RandomForestClassifier, ExtraTreesClassifier\n",
        "from sklearn.preprocessing import OneHotEncoder, LabelEncoder"
      ],
      "execution_count": null,
      "outputs": []
    },
    {
      "cell_type": "code",
      "metadata": {
        "id": "h_sSXtTyPH78"
      },
      "source": [
        "from google.colab import drive\n",
        "\n",
        "drive.mount('/content/gdrive')"
      ],
      "execution_count": null,
      "outputs": []
    },
    {
      "cell_type": "code",
      "metadata": {
        "id": "qsNuuaZ6PH6L"
      },
      "source": [
        "test = pd.read_csv('/content/gdrive/MyDrive/Colab Notebooks/KAGGLE/ZINDI_AUTO_INSURANCE/Dataset/Test.csv')\n",
        "\n",
        "train = pd.read_csv('/content/gdrive/MyDrive/Colab Notebooks/KAGGLE/ZINDI_AUTO_INSURANCE/Dataset/Train.csv')\n",
        "\n",
        "state = pd.read_csv('/content/gdrive/MyDrive/Colab Notebooks/KAGGLE/ZINDI_AUTO_INSURANCE/Dataset/NigerianStateNames.csv')\n",
        "\n",
        "sample = pd.read_csv('/content/gdrive/MyDrive/Colab Notebooks/KAGGLE/ZINDI_AUTO_INSURANCE/Dataset/Sample.csv')"
      ],
      "execution_count": null,
      "outputs": []
    },
    {
      "cell_type": "code",
      "metadata": {
        "id": "hbXV3FKcPgcJ"
      },
      "source": [
        "test['target'] = 2"
      ],
      "execution_count": null,
      "outputs": []
    },
    {
      "cell_type": "code",
      "metadata": {
        "id": "S6qNmn2oPgaA"
      },
      "source": [
        "data = pd.concat([train, test], axis=0).reset_index(drop=True)"
      ],
      "execution_count": null,
      "outputs": []
    },
    {
      "cell_type": "markdown",
      "metadata": {
        "id": "3UdNgSF4PNz8"
      },
      "source": [
        "# LGA_Name & State\n",
        "\n",
        "---\n",
        "\n"
      ]
    },
    {
      "cell_type": "code",
      "metadata": {
        "id": "NXQGXOJVPH3r"
      },
      "source": [
        "state['LGA'] = state['LGA'].str.lower()\n",
        "state['State'] = state['State'].str.lower()\n",
        "\n",
        "data['LGA_Name'] = data['LGA_Name'].str.lower()\n",
        "data['State'] = data['State'].str.lower()\n",
        "\n",
        "\n",
        "data.LGA_Name = data.LGA_Name.str.replace('/','-')\n",
        "data.LGA_Name = data.LGA_Name.str.replace(' ','-')\n",
        "data.LGA_Name = data.LGA_Name.str.replace('.','-')"
      ],
      "execution_count": null,
      "outputs": []
    },
    {
      "cell_type": "code",
      "metadata": {
        "id": "M2bmzbJhPH1g"
      },
      "source": [
        "data.LGA_Name = data.LGA_Name.str.replace('okpe,-delta-state','okpe')\n",
        "\n",
        "data.LGA_Name = data.LGA_Name.str.replace('zaria-','zaria')\n",
        "\n",
        "data.LGA_Name = data.LGA_Name.str.replace('ifako-ijaye-','ifako-ijaye')\n",
        "\n",
        "data.LGA_Name = data.LGA_Name.str.replace('owerri-west-','owerri-west')\n",
        "\n",
        "data.LGA_Name = data.LGA_Name.str.replace('ajegunle,lagos--state','ajeromi-ifelodun')\n",
        "\n",
        "data.LGA_Name = data.LGA_Name.str.replace('tai-','tai')\n",
        "\n",
        "data.LGA_Name = data.LGA_Name.str.replace('-ifako','ifako')\n",
        "\n",
        "data.LGA_Name = data.LGA_Name.str.replace('oyi-','oyi')\n",
        "\n",
        "data.LGA_Name = data.LGA_Name.str.replace('ifako-ijaye','ifako-ijaiye')\n",
        "\n",
        "data.LGA_Name = data.LGA_Name.str.replace('obia-akpor','obio-akpor')\n",
        "\n",
        "data.LGA_Name = data.LGA_Name.str.replace('ogbmosho-south','ogbomosho-south')\n",
        "\n",
        "data.LGA_Name = data.LGA_Name.str.replace('ovia-southwest','ovia-south-west')\n",
        "\n",
        "data.LGA_Name = data.LGA_Name.str.replace('ilesha-west','ilesa-west')\n",
        "\n",
        "data.LGA_Name = data.LGA_Name.str.replace('ilesha-east','ilesa-east')\n",
        "\n",
        "data.LGA_Name = data.LGA_Name.str.replace('calabar-municipality','calabar-municipal')\n",
        "\n",
        "data.LGA_Name = data.LGA_Name.str.replace('bekwara','bekwarra')\n",
        "\n",
        "data.LGA_Name = data.LGA_Name.str.replace('olamabolo','olamaboro')\n",
        "\n",
        "data.LGA_Name = data.LGA_Name.str.replace('somolu','shomolu')\n",
        "\n",
        "data.LGA_Name = data.LGA_Name.str.replace('ogudu','obudu')\n",
        "\n",
        "data.LGA_Name = data.LGA_Name.str.replace('ogba','ogba-egbema-ndoni')"
      ],
      "execution_count": null,
      "outputs": []
    },
    {
      "cell_type": "code",
      "metadata": {
        "id": "GGfnQIzgPHze"
      },
      "source": [
        "for train_index, train_row in data.iterrows():\n",
        "  for state_index, state_row in state.iterrows(): \n",
        "    if ((train_row['LGA_Name'] == state_row['LGA']) & (train_row['State'] != state_row['State'])):\n",
        "      data.loc[train_index, 'State'] = state.loc[state_index, 'State']"
      ],
      "execution_count": null,
      "outputs": []
    },
    {
      "cell_type": "code",
      "metadata": {
        "id": "uLwTRhEukE_Z"
      },
      "source": [
        "for train_index, train_row in data.iterrows():\n",
        "  for state_index, state_row in state.iterrows(): \n",
        "    if ((train_row['LGA_Name'] == state_row['LGA']) & ('state' not in state_row['State']) & ('capital' not in state_row['State'])):\n",
        "      data.loc[train_index, 'LGA_Name'] = state.loc[state_index, 'State']\n",
        "      # print(train_row['LGA_Name'])"
      ],
      "execution_count": null,
      "outputs": []
    },
    {
      "cell_type": "code",
      "metadata": {
        "id": "f9KYtgjHaFY-"
      },
      "source": [
        "for train_index, train_row in data.iterrows():\n",
        "  for state_index, state_row in state.iterrows(): \n",
        "    if ((train_row['LGA_Name'] == state_row['LGA']) & (train_row['State'] != state_row['State'])):\n",
        "      data.loc[train_index, 'State'] = state.loc[state_index, 'State']"
      ],
      "execution_count": null,
      "outputs": []
    },
    {
      "cell_type": "code",
      "metadata": {
        "id": "HYDnW3fdenY1"
      },
      "source": [
        "# for train_index, train_row in data.iterrows():\n",
        "#   for state_index, state_row in state.iterrows(): \n",
        "#     if ((train_row['State'] == state_row['LGA'])):\n",
        "#       data.loc[train_index, 'State'] = state.loc[state_index, 'State']"
      ],
      "execution_count": null,
      "outputs": []
    },
    {
      "cell_type": "markdown",
      "metadata": {
        "id": "_IEkeyZxPqIq"
      },
      "source": [
        "\n",
        "\n",
        "---\n",
        "\n",
        "# Fill NA\n",
        "\n",
        "---\n",
        "\n"
      ]
    },
    {
      "cell_type": "code",
      "metadata": {
        "id": "2C85p5-HYHSr"
      },
      "source": [
        "data  = pd.read_csv('/content/gdrive/MyDrive/Colab Notebooks/KAGGLE/ZINDI_AUTO_INSURANCE/Dataset/Data_Location_CLEAN.csv')"
      ],
      "execution_count": null,
      "outputs": []
    },
    {
      "cell_type": "code",
      "metadata": {
        "id": "PKAFCQgUPHvO"
      },
      "source": [
        "data.loc[data['LGA_Name'] == 'ogba-egbema-ndoni-egbema-ndoni', 'LGA_Name'] = 'ogba-egbema-ndoni'\n",
        "\n",
        "data.loc[data['State'] == 'ogba-ndoni', 'State'] = 'rivers state'\n",
        "\n",
        "\n",
        "\n",
        "data.loc[data['State'] == 'state-lagos', 'State'] = 'lagos state'\n",
        "\n",
        "data.loc[data['State'] == 'state-ogun', 'State'] = 'ogun state'\n",
        "\n",
        "data.loc[data['State'] == 'state-oyo', 'State'] = 'oyo state'\n",
        "\n",
        "data.loc[data['State'] == 'state-akwa-ibom', 'State'] = 'akwa ibom state'\n",
        "\n",
        "data.loc[data['State'] == 'state-rivers', 'State'] = 'rivers state'\n",
        "\n",
        "data.loc[data['State'] == 'state-ondo', 'State'] = 'ondo state'\n",
        "\n",
        "data.loc[data['State'] == 'state-niger', 'State'] = 'niger state'\n",
        "\n",
        "data.loc[data['State'] == 'state-abia', 'State'] = 'abia state'\n",
        "\n",
        "\n",
        "\n",
        "data.loc[data['State'] == 'ife-central', 'State'] = 'ife state'\n",
        "\n",
        "data.loc[data['State'] == 'central-abuja', 'State'] = 'abuja state'\n",
        "\n",
        "data.loc[data['State'] == 'central-benue', 'State'] = 'benue state'\n",
        "\n",
        "\n",
        "\n",
        "data.loc[data['State'] == 'capital-kaduna', 'State'] = 'kaduna state'\n",
        "\n",
        "data.loc[data['State'] == 'capital-ondo', 'State'] = 'ondo state'\n",
        "\n",
        "data.loc[data['State'] == 'capital-ogun', 'State'] = 'ogun state'\n",
        "\n",
        "data.loc[data['State'] == 'capital-delta', 'State'] = 'delta state'\n",
        "\n",
        "data.loc[data['State'] == 'capital-oyo-central', 'State'] = 'oyo state'\n",
        "\n",
        "data.loc[data['State'] == 'capital-anambra', 'State'] = 'anambra state'\n",
        "\n",
        "data.loc[data['State'] == 'capital-niger', 'State'] = 'niger state'\n",
        "\n",
        "data.loc[data['State'] == 'capital-edo', 'State'] = 'edo state'\n",
        "\n",
        "data.loc[data['State'] == 'capital-fct', 'State'] = 'federal capital territory'\n",
        "\n",
        "data.loc[data['State'] == 'capital-imo', 'State'] = 'imo state'\n",
        "\n",
        "data.loc[data['State'] == 'capital-cross-river', 'State'] = 'cross river state'\n",
        "\n",
        "data.loc[data['State'] == 'capital-benue', 'State'] = 'benue state'\n",
        "\n",
        "data.loc[data['State'] == 'capital-kwara', 'State'] = 'kwara state'\n",
        "\n",
        "data.loc[data['State'] == 'capital-lagos', 'State'] = 'lagos state'\n",
        "\n",
        "data.loc[data['State'] == 'capital-kano', 'State'] = 'kano state'\n",
        "\n",
        "\n",
        "\n",
        "\n",
        "data.loc[data['Subject_Car_Colour'] == 'Grey', 'Subject_Car_Colour'] = 'Gray'\n",
        "\n",
        "data.loc[data['Subject_Car_Make'] == 'Land Rover.' , 'Subject_Car_Make'] = 'Land Rover'\n",
        "\n",
        "data.loc[data['Subject_Car_Colour'] == 'D. Red', 'Subject_Car_Colour'] = 'Dark Red'\n",
        "\n",
        "data.loc[data['Subject_Car_Colour'] == 'Gray & Gray', 'Subject_Car_Colour'] = 'Gray'\n",
        "\n",
        "data.loc[data['Subject_Car_Colour'] == 'B.Silver', 'Subject_Car_Colour'] = 'Silver'\n",
        "\n",
        "data.loc[data['Subject_Car_Colour'] == 'Dark Grey', 'Subject_Car_Colour'] = 'Dark Gray'\n",
        "\n",
        "data.loc[data['Subject_Car_Colour'] == 'D. Gold', 'Subject_Car_Colour'] = 'Dark Gold'\n",
        "\n",
        "data.loc[data['Subject_Car_Colour'] == 'Yellow & White', 'Subject_Car_Colour'] = 'White & Yellow'  \n",
        "\n",
        "data.loc[data['Subject_Car_Colour'] == 'Blue Sky', 'Subject_Car_Colour'] = 'Light Blue'\n",
        "\n",
        "data.loc[data['Subject_Car_Colour'] == 'Blue & Red', 'Subject_Car_Colour'] = 'Red & Blue'\n",
        "\n",
        "data.loc[data['Subject_Car_Colour'] == 'White & Red', 'Subject_Car_Colour'] = 'Red & White'\n",
        "\n",
        "data.loc[data['Subject_Car_Make'] == 'Wrangler Jeep', 'Subject_Car_Make'] = 'Jeep'\n",
        "\n",
        "data.loc[data['Subject_Car_Make'] == 'Iveco', 'Car_Category'] = 'Truck'\n",
        "\n",
        "data.loc[data['Subject_Car_Make'] == 'Man', 'Car_Category'] = 'Truck'\n",
        "\n",
        "data.loc[data['Subject_Car_Make'] == 'Mack', 'Car_Category'] = 'Truck'\n",
        "\n",
        "data.loc[data['Subject_Car_Make'] == 'DAF', 'Car_Category'] = 'Truck'\n",
        "\n",
        "data.loc[data['ProductName'] == 'Motor Cycle', 'Car_Category'] = 'Motorcycle'\n",
        "\n",
        "\n",
        "\n",
        "data.loc[data['Car_Category'] == 'Tipper Truck', 'Car_Category'] = 'Truck'\n",
        "\n",
        "data.loc[data['Car_Category'] == 'Pick Up > 3 Tons', 'Car_Category'] = 'Pick Up'\n",
        "\n",
        "data.loc[data['Car_Category'] == 'Mini Bus', 'Car_Category'] = 'Bus'\n"
      ],
      "execution_count": null,
      "outputs": []
    },
    {
      "cell_type": "code",
      "metadata": {
        "id": "KZcaZP-aPHxZ"
      },
      "source": [
        "data = data.fillna('999999')"
      ],
      "execution_count": null,
      "outputs": []
    },
    {
      "cell_type": "code",
      "metadata": {
        "id": "5jQW9RvEv6eE"
      },
      "source": [
        "# Label Encoding\n",
        "\n",
        "Dict = {'Gender_Lab': 'Gender', 'Car_Category_Lab': 'Car_Category', 'Subject_Car_Colour_Lab': 'Subject_Car_Colour', 'Subject_Car_Make_Lab': 'Subject_Car_Make', 'LGA_Name_Lab': 'LGA_Name', 'State_Lab': 'State', 'ProductName_Lab': 'ProductName'}\n",
        "\n",
        "for key, value in Dict.items():\n",
        "\n",
        "  # label_encoder object knows how to understand word labels.\n",
        "  label_encoder = LabelEncoder()\n",
        "  \n",
        "  # Encode labels in column 'species'.\n",
        "  data[key]= label_encoder.fit_transform(data[value])\n",
        "  "
      ],
      "execution_count": null,
      "outputs": []
    },
    {
      "cell_type": "code",
      "metadata": {
        "id": "RHnEbDdQ93_F"
      },
      "source": [
        "data.loc[data['Car_Category'] == 'Shape Of Vehicle Chasis', 'Car_Category_Lab'] = np.nan\n",
        "\n",
        "data.loc[data['Car_Category'] == 'Station 4 Wheel', 'Car_Category_Lab'] = np.nan\n",
        "\n",
        "data.loc[data['Car_Category'] == 'CAMRY CAR HIRE', 'Car_Category_Lab'] = np.nan"
      ],
      "execution_count": null,
      "outputs": []
    },
    {
      "cell_type": "code",
      "metadata": {
        "id": "JAeUtiXYPHrG"
      },
      "source": [
        "data.loc[data['Gender'] == 'NOT STATED', 'Gender_Lab'] = np.nan\n",
        "\n",
        "data.loc[data['Gender'] == 'Entity', 'Gender_Lab'] = np.nan\n",
        "\n",
        "data.loc[data['Gender'] == 'NO GENDER', 'Gender_Lab'] = np.nan\n",
        "\n",
        "data.loc[data['Gender'] == 'Joint Gender', 'Gender_Lab'] = np.nan\n",
        "\n",
        "data.loc[data['Gender'] == 'SEX', 'Gender_Lab'] = np.nan\n",
        "\n",
        "data.loc[data['Subject_Car_Colour'] == 'As Attached', 'Subject_Car_Colour_Lab'] = np.nan\n",
        "\n",
        "data.loc[data['Subject_Car_Make'] == 'As Attached', 'Subject_Car_Make_Lab'] = np.nan\n",
        "\n",
        "data.loc[data['Subject_Car_Make'] == '.', 'Subject_Car_Make_Lab'] = np.nan\n",
        "\n",
        "data.loc[data['Subject_Car_Make'] == 'Black', 'Subject_Car_Make_Lab'] = np.nan\n",
        "\n",
        "data['Age'] = data['Age'].abs()\n",
        "\n",
        "data.loc[data['LGA_Name'] == 'lga', 'LGA_Name_Lab'] = np.nan\n",
        "\n",
        "data.loc[data['State'] == 'n-a', 'State_Lab'] = np.nan\n",
        "\n",
        "data.loc[data['State'] == 'unknown', 'State_Lab'] = np.nan\n",
        "\n",
        "data.loc[data['Gender'] == '999999', 'Gender_Lab'] = np.nan\n",
        "\n",
        "data.loc[data['Age'] == 999999, 'Age'] = np.nan\n",
        "\n",
        "data.loc[data['Car_Category'] == '999999', 'Car_Category_Lab'] = np.nan\n",
        "\n",
        "data.loc[data['Subject_Car_Colour'] == '999999', 'Subject_Car_Colour_Lab'] = np.nan\n",
        "\n",
        "data.loc[data['Subject_Car_Make'] == '999999', 'Subject_Car_Make_Lab'] = np.nan\n",
        "\n",
        "data.loc[data['LGA_Name'] == '999999', 'LGA_Name_Lab'] = np.nan\n",
        "\n",
        "data.loc[data['State'] == '999999', 'State_Lab'] = np.nan"
      ],
      "execution_count": null,
      "outputs": []
    },
    {
      "cell_type": "code",
      "metadata": {
        "id": "A_7sKwteQR1K"
      },
      "source": [
        "# Datetime conversion\n",
        "\n",
        "data['Policy Start Date']= pd.to_datetime(data['Policy Start Date'], errors='coerce') \n",
        "\n",
        "data['Policy End Date']= pd.to_datetime(data['Policy End Date']) "
      ],
      "execution_count": null,
      "outputs": []
    },
    {
      "cell_type": "code",
      "metadata": {
        "id": "cgnIorBdQTac"
      },
      "source": [
        "# Policy Start Date (PSD)\n",
        "\n",
        "data['PSD_month'] = data['Policy Start Date'].dt.month\n",
        "\n",
        "data['PSD_day'] = data['Policy Start Date'].dt.day\n",
        "\n",
        "data['PSD_year'] = data['Policy Start Date'].dt.year\n",
        "\n",
        "data['PSD_quarter'] = data['Policy Start Date'].dt.quarter\n",
        "\n",
        "data['PSD_dayofweek'] = data['Policy Start Date'].dt.dayofweek\n",
        "\n",
        "data['PSD_dayofweek_name'] = data['Policy Start Date'].dt.day_name()\n",
        "\n",
        "data['PSD_weekend'] = np.where(data['PSD_dayofweek_name'].isin(['Sunday','Saturday']),1,0)"
      ],
      "execution_count": null,
      "outputs": []
    },
    {
      "cell_type": "code",
      "metadata": {
        "id": "WjQ7h8ulQVh2"
      },
      "source": [
        "#Policy End Date (PED)\n",
        "\n",
        "data['PED_month'] = data['Policy End Date'].dt.month\n",
        "\n",
        "data['PED_day'] = data['Policy End Date'].dt.day\n",
        "\n",
        "data['PED_year'] = data['Policy End Date'].dt.year\n",
        "\n",
        "data['PED_quarter'] = data['Policy End Date'].dt.quarter\n",
        "\n",
        "data['PED_dayofweek'] = data['Policy End Date'].dt.dayofweek\n",
        "\n",
        "data['PED_dayofweek_name'] = data['Policy End Date'].dt.day_name()\n",
        "\n",
        "data['PED_weekend'] = np.where(data['PED_dayofweek_name'].isin(['Sunday','Saturday']),1,0)"
      ],
      "execution_count": null,
      "outputs": []
    },
    {
      "cell_type": "code",
      "metadata": {
        "id": "68CNYtabQX98"
      },
      "source": [
        "# Policy Duration\n",
        "\n",
        "data['Pol_Duration'] = (data['Policy End Date'] - data['Policy Start Date']).astype('timedelta64[h]')"
      ],
      "execution_count": null,
      "outputs": []
    },
    {
      "cell_type": "code",
      "metadata": {
        "id": "Br-hCDyXPHnQ"
      },
      "source": [
        "X = data.select_dtypes(include=np.number)\n"
      ],
      "execution_count": null,
      "outputs": []
    },
    {
      "cell_type": "code",
      "metadata": {
        "id": "umlZkWewPHk_"
      },
      "source": [
        "x = X.drop('target', axis=1)"
      ],
      "execution_count": null,
      "outputs": []
    },
    {
      "cell_type": "code",
      "metadata": {
        "id": "BZfsuVPUQHSG"
      },
      "source": [
        "x"
      ],
      "execution_count": null,
      "outputs": []
    },
    {
      "cell_type": "code",
      "metadata": {
        "id": "-IzwxFrVQHQL"
      },
      "source": [
        "# # Scikit-Learn / KNNImputer\n",
        "# from sklearn.impute import KNNImputer\n",
        "# forest = RandomForestClassifier()\n",
        "\n",
        "# impute_knn = KNNImputer(n_neighbors=1)\n",
        "# imputed = pd.DataFrame(impute_knn.fit_transform(x))\n"
      ],
      "execution_count": null,
      "outputs": []
    },
    {
      "cell_type": "code",
      "metadata": {
        "id": "9LKCTpuvCBsZ"
      },
      "source": [
        "impute_iter = IterativeImputer(estimator=ExtraTreesClassifier(), random_state=42)\n",
        "imputed = pd.DataFrame(impute_iter.fit_transform(x))"
      ],
      "execution_count": null,
      "outputs": []
    },
    {
      "cell_type": "code",
      "metadata": {
        "id": "0zX0kw_MARGF"
      },
      "source": [
        "imputed"
      ],
      "execution_count": null,
      "outputs": []
    },
    {
      "cell_type": "code",
      "metadata": {
        "id": "7qDbLYj7t3zK"
      },
      "source": [
        "imputed.to_csv('/content/gdrive/MyDrive/Colab Notebooks/KAGGLE/ZINDI_AUTO_INSURANCE/Dataset/imputed.csv')"
      ],
      "execution_count": null,
      "outputs": []
    },
    {
      "cell_type": "markdown",
      "metadata": {
        "id": "SmMO8KdU3s-x"
      },
      "source": [
        "\n",
        "\n",
        "---\n",
        "\n",
        "# Clean\n",
        "\n",
        "---\n",
        "\n"
      ]
    },
    {
      "cell_type": "code",
      "metadata": {
        "id": "nx6l19c4sk_z"
      },
      "source": [
        "imputed = pd.read_csv('/content/gdrive/MyDrive/Colab Notebooks/KAGGLE/ZINDI_AUTO_INSURANCE/Dataset/imputed.csv')"
      ],
      "execution_count": null,
      "outputs": []
    },
    {
      "cell_type": "code",
      "metadata": {
        "id": "o7oEJgoyTDkL"
      },
      "source": [
        "imputed.rename(columns = {'0':'Age', '1':'No_Pol', '2':'Gender', '3':'Car_Category', '4':'Subject_Car_Colour', '5':'Subject_Car_Make', '6':'LGA_Name', '7':'State', '8':'ProductName', '9':'PSD_month',\n",
        "                           '10':'PSD_day', '11':'PSD_year', '12':'PSD_quarter', '13':'PSD_dayofweek', '14':'PSD_weekend', '15':'PED_month', '16':'PED_day', '17':'PED_year', '18':'PED_quarter', '19':'PED_dayofweek', '20':'PED_weekend', '21':'Pol_Duration'}, inplace = True)"
      ],
      "execution_count": null,
      "outputs": []
    },
    {
      "cell_type": "code",
      "metadata": {
        "id": "fVLEb2nVQHN9"
      },
      "source": [
        " imputed = imputed.astype('int')\n",
        "# test = test.astype('int')"
      ],
      "execution_count": null,
      "outputs": []
    },
    {
      "cell_type": "code",
      "metadata": {
        "id": "zw3U236ZTCr4"
      },
      "source": [
        "result = pd.concat([data['target'], imputed], axis=1, join='inner')"
      ],
      "execution_count": null,
      "outputs": []
    },
    {
      "cell_type": "code",
      "metadata": {
        "id": "sSKtX8rOD-Qx"
      },
      "source": [
        "result"
      ],
      "execution_count": null,
      "outputs": []
    },
    {
      "cell_type": "code",
      "metadata": {
        "id": "c7gjj9n75R2U"
      },
      "source": [
        "train[train.duplicated()]"
      ],
      "execution_count": null,
      "outputs": []
    },
    {
      "cell_type": "code",
      "metadata": {
        "id": "xxiozc-iRm6G"
      },
      "source": [
        "# Correlation\n",
        "\n",
        "\n",
        "!pip install dataprep\n",
        "\n",
        "from dataprep.eda import plot, plot_correlation, plot_missing, plot_diff, create_report\n",
        "\n",
        "plot_correlation(train, config={'height': 800, 'width': 800})"
      ],
      "execution_count": null,
      "outputs": []
    },
    {
      "cell_type": "code",
      "metadata": {
        "id": "ToZTw2RHWMVe"
      },
      "source": [
        "# Duplicates\n",
        "\n",
        "\n",
        "train.drop_duplicates(keep='first', inplace=True)\n",
        "\n",
        "dups = train[(train.drop('target', axis=1).duplicated())]\n",
        "\n",
        "ind = dups[dups.target == 1].index\n",
        "\n",
        "train.drop(ind, inplace=True)"
      ],
      "execution_count": null,
      "outputs": []
    },
    {
      "cell_type": "markdown",
      "metadata": {
        "id": "tAvWSuL-SpXK"
      },
      "source": [
        "\n",
        "\n",
        "---\n",
        "\n",
        "# Feature Generation\n",
        "\n",
        "---\n",
        "\n"
      ]
    },
    {
      "cell_type": "code",
      "metadata": {
        "id": "yAnF8viYQHFq"
      },
      "source": [
        "data"
      ],
      "execution_count": null,
      "outputs": []
    },
    {
      "cell_type": "code",
      "metadata": {
        "id": "Q-3YP9WuZsBT"
      },
      "source": [
        "column = ['target', 'Age', 'No_Pol', 'PSD_month', 'PSD_day', 'PSD_year',\n",
        "       'PSD_quarter', 'PSD_dayofweek', 'PSD_weekend', 'PED_month',\n",
        "       'PED_day', 'PED_year', 'PED_quarter', 'PED_dayofweek',\n",
        "       'PED_weekend', 'Pol_Duration']"
      ],
      "execution_count": null,
      "outputs": []
    },
    {
      "cell_type": "code",
      "metadata": {
        "id": "XtecCx-CZNnK"
      },
      "source": [
        "result[['max target', 'max_Age', 'max_No_Pol', 'max_PSD_month', 'max_PSD_day', 'max_PSD_year',\n",
        "       'max_PSD_quarter', 'max_PSD_dayofweek', 'max_PSD_weekend', 'max_PED_month',\n",
        "       'max_PED_day', 'max_PED_year', 'max_PED_quarter', 'max_PED_dayofweek',\n",
        "       'max_PED_weekend', 'max_Pol_Duration']] =  result.groupby(['Gender',\n",
        " 'Car_Category',\n",
        " 'Subject_Car_Colour',\n",
        " 'Subject_Car_Make',\n",
        " 'LGA_Name',\n",
        " 'State',\n",
        " 'ProductName'])[column].transform(np.max)"
      ],
      "execution_count": null,
      "outputs": []
    },
    {
      "cell_type": "code",
      "metadata": {
        "id": "cFaKxOjlcbCa"
      },
      "source": [
        "result[['min target', 'min_Age', 'min_No_Pol', 'min_PSD_month', 'min_PSD_day', 'min_PSD_year',\n",
        "       'min_PSD_quarter', 'min_PSD_dayofweek', 'min_PSD_weekend', 'min_PED_month',\n",
        "       'min_PED_day', 'min_PED_year', 'min_PED_quarter', 'min_PED_dayofweek',\n",
        "       'min_PED_weekend', 'min_Pol_Duration']] =  result.groupby(['Gender',\n",
        " 'Car_Category',\n",
        " 'Subject_Car_Colour',\n",
        " 'Subject_Car_Make',\n",
        " 'LGA_Name',\n",
        " 'State',\n",
        " 'ProductName'])[column].transform(np.min)"
      ],
      "execution_count": null,
      "outputs": []
    },
    {
      "cell_type": "code",
      "metadata": {
        "id": "DT8JxAf_9NJl"
      },
      "source": [
        "#define bins \n",
        "bins = [-1, 18, 30, 45, 60, 100, 70000]\n",
        "\n",
        "#name of groups\n",
        "groups = [1, 2, 3, 4, 5, 6]\n",
        "\n",
        "result['Age_Bin'] = pd.cut(result['Age'], bins=bins, labels=groups)"
      ],
      "execution_count": null,
      "outputs": []
    },
    {
      "cell_type": "code",
      "metadata": {
        "id": "wiZDyPW79QHV"
      },
      "source": [
        "del result['max target']\n",
        "\n",
        "del result['min target']"
      ],
      "execution_count": null,
      "outputs": []
    },
    {
      "cell_type": "code",
      "metadata": {
        "id": "W_US42ut9lJ5"
      },
      "source": [
        "result = pd.get_dummies(result, columns=['No_Pol', 'Gender', 'Car_Category', 'ProductName', 'Subject_Car_Colour', 'State', 'Age_Bin'])"
      ],
      "execution_count": null,
      "outputs": []
    },
    {
      "cell_type": "code",
      "metadata": {
        "id": "DV7z813htClt"
      },
      "source": [
        "test = result[result['target'] == 2]\n",
        "train = result[result['target'] != 2]\n",
        "del test['target']\n",
        "\n",
        "test.to_csv('/content/gdrive/MyDrive/Colab Notebooks/KAGGLE/ZINDI_AUTO_INSURANCE/Dataset/TEST_Imputed.csv', index=False)\n",
        "train.to_csv('/content/gdrive/MyDrive/Colab Notebooks/KAGGLE/ZINDI_AUTO_INSURANCE/Dataset/TRAIN_Imputed.csv', index=False)"
      ],
      "execution_count": null,
      "outputs": []
    }
  ]
}